{
 "cells": [
  {
   "cell_type": "markdown",
   "metadata": {},
   "source": [
    "## Reading the data from PostgreSQL database and looking at it with psycopg2"
   ]
  },
  {
   "cell_type": "code",
   "execution_count": 3,
   "metadata": {},
   "outputs": [],
   "source": [
    "import pandas as pd\n",
    "import os\n",
    "os.chdir('/Users/beth/Documents/Metis/metis_project_3_files/clinical_trials')"
   ]
  },
  {
   "cell_type": "code",
   "execution_count": 4,
   "metadata": {},
   "outputs": [],
   "source": [
    "import psycopg2 as pg"
   ]
  },
  {
   "cell_type": "code",
   "execution_count": 5,
   "metadata": {},
   "outputs": [],
   "source": [
    "connection_args = {\n",
    "    'host': 'localhost',  # We are connecting to our _local_ version of psql\n",
    "    'dbname': 'clinical_trials',    # DB that we are connecting to\n",
    "}"
   ]
  },
  {
   "cell_type": "code",
   "execution_count": 6,
   "metadata": {},
   "outputs": [],
   "source": [
    "conn = pg.connect(**connection_args)"
   ]
  },
  {
   "cell_type": "code",
   "execution_count": 7,
   "metadata": {},
   "outputs": [],
   "source": [
    "def go(query):\n",
    "    return pd.read_sql_query(query, conn)"
   ]
  },
  {
   "cell_type": "code",
   "execution_count": 8,
   "metadata": {},
   "outputs": [
    {
     "data": {
      "text/html": [
       "<div>\n",
       "<style scoped>\n",
       "    .dataframe tbody tr th:only-of-type {\n",
       "        vertical-align: middle;\n",
       "    }\n",
       "\n",
       "    .dataframe tbody tr th {\n",
       "        vertical-align: top;\n",
       "    }\n",
       "\n",
       "    .dataframe thead th {\n",
       "        text-align: right;\n",
       "    }\n",
       "</style>\n",
       "<table border=\"1\" class=\"dataframe\">\n",
       "  <thead>\n",
       "    <tr style=\"text-align: right;\">\n",
       "      <th></th>\n",
       "      <th>idx</th>\n",
       "      <th>rank</th>\n",
       "      <th>nctid</th>\n",
       "      <th>brieftitle</th>\n",
       "      <th>condition</th>\n",
       "      <th>keyword</th>\n",
       "      <th>overallstatus</th>\n",
       "      <th>whystopped</th>\n",
       "      <th>startdate</th>\n",
       "      <th>primarycompletiondate</th>\n",
       "      <th>completiondate</th>\n",
       "      <th>referencepmid</th>\n",
       "      <th>referencetype</th>\n",
       "      <th>isfdaregulateddrug</th>\n",
       "      <th>isfdaregulateddevice</th>\n",
       "      <th>isunapproveddevice</th>\n",
       "      <th>hasexpandedaccess</th>\n",
       "      <th>isusexport</th>\n",
       "      <th>oversighthasdmc</th>\n",
       "    </tr>\n",
       "  </thead>\n",
       "  <tbody>\n",
       "    <tr>\n",
       "      <th>0</th>\n",
       "      <td>0</td>\n",
       "      <td>1</td>\n",
       "      <td>NCT00049660</td>\n",
       "      <td>Capecitabine Compared With Vinorelbine in Trea...</td>\n",
       "      <td>Breast Cancer</td>\n",
       "      <td>stage IV breast cancer</td>\n",
       "      <td>Terminated</td>\n",
       "      <td>low accrual</td>\n",
       "      <td>September 2002</td>\n",
       "      <td>December 2004</td>\n",
       "      <td></td>\n",
       "      <td>17976988</td>\n",
       "      <td>result</td>\n",
       "      <td></td>\n",
       "      <td></td>\n",
       "      <td></td>\n",
       "      <td>No</td>\n",
       "      <td></td>\n",
       "      <td></td>\n",
       "    </tr>\n",
       "    <tr>\n",
       "      <th>1</th>\n",
       "      <td>1</td>\n",
       "      <td>2</td>\n",
       "      <td>NCT00503321</td>\n",
       "      <td>Phase II Study of TS-1 Therapy and TS-1+PSK Th...</td>\n",
       "      <td>Gastric Cancer</td>\n",
       "      <td>gastric cancer, TS-1, PSK</td>\n",
       "      <td>Terminated</td>\n",
       "      <td>Patients' enrollment was not sufficient.</td>\n",
       "      <td>October 2006</td>\n",
       "      <td>August 2009</td>\n",
       "      <td>August 2011</td>\n",
       "      <td>7910230</td>\n",
       "      <td>background</td>\n",
       "      <td></td>\n",
       "      <td></td>\n",
       "      <td></td>\n",
       "      <td>No</td>\n",
       "      <td></td>\n",
       "      <td>Yes</td>\n",
       "    </tr>\n",
       "  </tbody>\n",
       "</table>\n",
       "</div>"
      ],
      "text/plain": [
       "   idx  rank        nctid                                         brieftitle  \\\n",
       "0    0     1  NCT00049660  Capecitabine Compared With Vinorelbine in Trea...   \n",
       "1    1     2  NCT00503321  Phase II Study of TS-1 Therapy and TS-1+PSK Th...   \n",
       "\n",
       "        condition                    keyword overallstatus  \\\n",
       "0   Breast Cancer     stage IV breast cancer    Terminated   \n",
       "1  Gastric Cancer  gastric cancer, TS-1, PSK    Terminated   \n",
       "\n",
       "                                 whystopped       startdate  \\\n",
       "0                               low accrual  September 2002   \n",
       "1  Patients' enrollment was not sufficient.    October 2006   \n",
       "\n",
       "  primarycompletiondate completiondate referencepmid referencetype  \\\n",
       "0         December 2004                     17976988        result   \n",
       "1           August 2009    August 2011       7910230    background   \n",
       "\n",
       "  isfdaregulateddrug isfdaregulateddevice isunapproveddevice  \\\n",
       "0                                                              \n",
       "1                                                              \n",
       "\n",
       "  hasexpandedaccess isusexport oversighthasdmc  \n",
       "0                No                             \n",
       "1                No                        Yes  "
      ]
     },
     "execution_count": 8,
     "metadata": {},
     "output_type": "execute_result"
    }
   ],
   "source": [
    "query = \"SELECT * FROM basic_info LIMIT 2;\"\n",
    "\n",
    "pd.read_sql_query(query, conn)"
   ]
  },
  {
   "cell_type": "code",
   "execution_count": 9,
   "metadata": {},
   "outputs": [
    {
     "data": {
      "text/html": [
       "<div>\n",
       "<style scoped>\n",
       "    .dataframe tbody tr th:only-of-type {\n",
       "        vertical-align: middle;\n",
       "    }\n",
       "\n",
       "    .dataframe tbody tr th {\n",
       "        vertical-align: top;\n",
       "    }\n",
       "\n",
       "    .dataframe thead th {\n",
       "        text-align: right;\n",
       "    }\n",
       "</style>\n",
       "<table border=\"1\" class=\"dataframe\">\n",
       "  <thead>\n",
       "    <tr style=\"text-align: right;\">\n",
       "      <th></th>\n",
       "      <th>count</th>\n",
       "    </tr>\n",
       "  </thead>\n",
       "  <tbody>\n",
       "    <tr>\n",
       "      <th>0</th>\n",
       "      <td>18125</td>\n",
       "    </tr>\n",
       "  </tbody>\n",
       "</table>\n",
       "</div>"
      ],
      "text/plain": [
       "   count\n",
       "0  18125"
      ]
     },
     "execution_count": 9,
     "metadata": {},
     "output_type": "execute_result"
    }
   ],
   "source": [
    "query = \"SELECT COUNT(*) FROM basic_info;\"\n",
    "go(query)"
   ]
  },
  {
   "cell_type": "code",
   "execution_count": 10,
   "metadata": {},
   "outputs": [
    {
     "data": {
      "text/html": [
       "<div>\n",
       "<style scoped>\n",
       "    .dataframe tbody tr th:only-of-type {\n",
       "        vertical-align: middle;\n",
       "    }\n",
       "\n",
       "    .dataframe tbody tr th {\n",
       "        vertical-align: top;\n",
       "    }\n",
       "\n",
       "    .dataframe thead th {\n",
       "        text-align: right;\n",
       "    }\n",
       "</style>\n",
       "<table border=\"1\" class=\"dataframe\">\n",
       "  <thead>\n",
       "    <tr style=\"text-align: right;\">\n",
       "      <th></th>\n",
       "      <th>count</th>\n",
       "    </tr>\n",
       "  </thead>\n",
       "  <tbody>\n",
       "    <tr>\n",
       "      <th>0</th>\n",
       "      <td>3810</td>\n",
       "    </tr>\n",
       "  </tbody>\n",
       "</table>\n",
       "</div>"
      ],
      "text/plain": [
       "   count\n",
       "0   3810"
      ]
     },
     "execution_count": 10,
     "metadata": {},
     "output_type": "execute_result"
    }
   ],
   "source": [
    "query = \"SELECT COUNT(*) FROM basic_info WHERE overallstatus='Terminated';\"\n",
    "go(query)"
   ]
  },
  {
   "cell_type": "code",
   "execution_count": 11,
   "metadata": {},
   "outputs": [
    {
     "data": {
      "text/html": [
       "<div>\n",
       "<style scoped>\n",
       "    .dataframe tbody tr th:only-of-type {\n",
       "        vertical-align: middle;\n",
       "    }\n",
       "\n",
       "    .dataframe tbody tr th {\n",
       "        vertical-align: top;\n",
       "    }\n",
       "\n",
       "    .dataframe thead th {\n",
       "        text-align: right;\n",
       "    }\n",
       "</style>\n",
       "<table border=\"1\" class=\"dataframe\">\n",
       "  <thead>\n",
       "    <tr style=\"text-align: right;\">\n",
       "      <th></th>\n",
       "      <th>count</th>\n",
       "    </tr>\n",
       "  </thead>\n",
       "  <tbody>\n",
       "    <tr>\n",
       "      <th>0</th>\n",
       "      <td>14315</td>\n",
       "    </tr>\n",
       "  </tbody>\n",
       "</table>\n",
       "</div>"
      ],
      "text/plain": [
       "   count\n",
       "0  14315"
      ]
     },
     "execution_count": 11,
     "metadata": {},
     "output_type": "execute_result"
    }
   ],
   "source": [
    "query = \"SELECT COUNT(*) FROM basic_info WHERE overallstatus='Completed';\"\n",
    "go(query)"
   ]
  },
  {
   "cell_type": "code",
   "execution_count": 12,
   "metadata": {},
   "outputs": [
    {
     "data": {
      "text/html": [
       "<div>\n",
       "<style scoped>\n",
       "    .dataframe tbody tr th:only-of-type {\n",
       "        vertical-align: middle;\n",
       "    }\n",
       "\n",
       "    .dataframe tbody tr th {\n",
       "        vertical-align: top;\n",
       "    }\n",
       "\n",
       "    .dataframe thead th {\n",
       "        text-align: right;\n",
       "    }\n",
       "</style>\n",
       "<table border=\"1\" class=\"dataframe\">\n",
       "  <thead>\n",
       "    <tr style=\"text-align: right;\">\n",
       "      <th></th>\n",
       "      <th>overallstatus</th>\n",
       "      <th>count</th>\n",
       "    </tr>\n",
       "  </thead>\n",
       "  <tbody>\n",
       "    <tr>\n",
       "      <th>0</th>\n",
       "      <td>Completed</td>\n",
       "      <td>51</td>\n",
       "    </tr>\n",
       "    <tr>\n",
       "      <th>1</th>\n",
       "      <td>Terminated</td>\n",
       "      <td>13</td>\n",
       "    </tr>\n",
       "  </tbody>\n",
       "</table>\n",
       "</div>"
      ],
      "text/plain": [
       "  overallstatus  count\n",
       "0     Completed     51\n",
       "1    Terminated     13"
      ]
     },
     "execution_count": 12,
     "metadata": {},
     "output_type": "execute_result"
    }
   ],
   "source": [
    "query = \"SELECT overallstatus, COUNT(*) FROM basic_info WHERE hasexpandedaccess = 'Yes' \\\n",
    "GROUP BY overallstatus;\"\n",
    "\n",
    "go(query)"
   ]
  },
  {
   "cell_type": "code",
   "execution_count": 13,
   "metadata": {},
   "outputs": [
    {
     "data": {
      "text/html": [
       "<div>\n",
       "<style scoped>\n",
       "    .dataframe tbody tr th:only-of-type {\n",
       "        vertical-align: middle;\n",
       "    }\n",
       "\n",
       "    .dataframe tbody tr th {\n",
       "        vertical-align: top;\n",
       "    }\n",
       "\n",
       "    .dataframe thead th {\n",
       "        text-align: right;\n",
       "    }\n",
       "</style>\n",
       "<table border=\"1\" class=\"dataframe\">\n",
       "  <thead>\n",
       "    <tr style=\"text-align: right;\">\n",
       "      <th></th>\n",
       "      <th>to_date</th>\n",
       "    </tr>\n",
       "  </thead>\n",
       "  <tbody>\n",
       "    <tr>\n",
       "      <th>0</th>\n",
       "      <td>2002-09-01</td>\n",
       "    </tr>\n",
       "    <tr>\n",
       "      <th>1</th>\n",
       "      <td>2006-10-01</td>\n",
       "    </tr>\n",
       "  </tbody>\n",
       "</table>\n",
       "</div>"
      ],
      "text/plain": [
       "      to_date\n",
       "0  2002-09-01\n",
       "1  2006-10-01"
      ]
     },
     "execution_count": 13,
     "metadata": {},
     "output_type": "execute_result"
    }
   ],
   "source": [
    "query = \"SELECT to_date(startdate,'Month YYYY') from basic_info LIMIT 2;\"\n",
    "\n",
    "go(query)"
   ]
  },
  {
   "cell_type": "code",
   "execution_count": 14,
   "metadata": {},
   "outputs": [
    {
     "data": {
      "text/html": [
       "<div>\n",
       "<style scoped>\n",
       "    .dataframe tbody tr th:only-of-type {\n",
       "        vertical-align: middle;\n",
       "    }\n",
       "\n",
       "    .dataframe tbody tr th {\n",
       "        vertical-align: top;\n",
       "    }\n",
       "\n",
       "    .dataframe thead th {\n",
       "        text-align: right;\n",
       "    }\n",
       "</style>\n",
       "<table border=\"1\" class=\"dataframe\">\n",
       "  <thead>\n",
       "    <tr style=\"text-align: right;\">\n",
       "      <th></th>\n",
       "      <th>count</th>\n",
       "    </tr>\n",
       "  </thead>\n",
       "  <tbody>\n",
       "    <tr>\n",
       "      <th>0</th>\n",
       "      <td>1457</td>\n",
       "    </tr>\n",
       "  </tbody>\n",
       "</table>\n",
       "</div>"
      ],
      "text/plain": [
       "   count\n",
       "0   1457"
      ]
     },
     "execution_count": 14,
     "metadata": {},
     "output_type": "execute_result"
    }
   ],
   "source": [
    "#there are some studies with no entry for completion data\n",
    "query = \"SELECT COUNT(primarycompletiondate) FROM basic_info WHERE primarycompletiondate = '';\"\n",
    "go(query)"
   ]
  },
  {
   "cell_type": "code",
   "execution_count": 15,
   "metadata": {},
   "outputs": [
    {
     "data": {
      "text/html": [
       "<div>\n",
       "<style scoped>\n",
       "    .dataframe tbody tr th:only-of-type {\n",
       "        vertical-align: middle;\n",
       "    }\n",
       "\n",
       "    .dataframe tbody tr th {\n",
       "        vertical-align: top;\n",
       "    }\n",
       "\n",
       "    .dataframe thead th {\n",
       "        text-align: right;\n",
       "    }\n",
       "</style>\n",
       "<table border=\"1\" class=\"dataframe\">\n",
       "  <thead>\n",
       "    <tr style=\"text-align: right;\">\n",
       "      <th></th>\n",
       "      <th>count</th>\n",
       "    </tr>\n",
       "  </thead>\n",
       "  <tbody>\n",
       "    <tr>\n",
       "      <th>0</th>\n",
       "      <td>16668</td>\n",
       "    </tr>\n",
       "  </tbody>\n",
       "</table>\n",
       "</div>"
      ],
      "text/plain": [
       "   count\n",
       "0  16668"
      ]
     },
     "execution_count": 15,
     "metadata": {},
     "output_type": "execute_result"
    }
   ],
   "source": [
    "#there are some studies with no entry for completion data\n",
    "query = \"SELECT COUNT(primarycompletiondate) FROM basic_info WHERE primarycompletiondate != '';\"\n",
    "go(query)"
   ]
  },
  {
   "cell_type": "code",
   "execution_count": 16,
   "metadata": {},
   "outputs": [
    {
     "data": {
      "text/html": [
       "<div>\n",
       "<style scoped>\n",
       "    .dataframe tbody tr th:only-of-type {\n",
       "        vertical-align: middle;\n",
       "    }\n",
       "\n",
       "    .dataframe tbody tr th {\n",
       "        vertical-align: top;\n",
       "    }\n",
       "\n",
       "    .dataframe thead th {\n",
       "        text-align: right;\n",
       "    }\n",
       "</style>\n",
       "<table border=\"1\" class=\"dataframe\">\n",
       "  <thead>\n",
       "    <tr style=\"text-align: right;\">\n",
       "      <th></th>\n",
       "      <th>start</th>\n",
       "      <th>stop</th>\n",
       "    </tr>\n",
       "  </thead>\n",
       "  <tbody>\n",
       "    <tr>\n",
       "      <th>0</th>\n",
       "      <td>September 2002</td>\n",
       "      <td>December 2004</td>\n",
       "    </tr>\n",
       "    <tr>\n",
       "      <th>1</th>\n",
       "      <td>October 2006</td>\n",
       "      <td>August 2009</td>\n",
       "    </tr>\n",
       "    <tr>\n",
       "      <th>2</th>\n",
       "      <td>May 2006</td>\n",
       "      <td>July 2008</td>\n",
       "    </tr>\n",
       "    <tr>\n",
       "      <th>3</th>\n",
       "      <td>August 2007</td>\n",
       "      <td>October 2011</td>\n",
       "    </tr>\n",
       "    <tr>\n",
       "      <th>4</th>\n",
       "      <td>December 2006</td>\n",
       "      <td>December 2010</td>\n",
       "    </tr>\n",
       "    <tr>\n",
       "      <th>...</th>\n",
       "      <td>...</td>\n",
       "      <td>...</td>\n",
       "    </tr>\n",
       "    <tr>\n",
       "      <th>16641</th>\n",
       "      <td>February 2007</td>\n",
       "      <td>December 2009</td>\n",
       "    </tr>\n",
       "    <tr>\n",
       "      <th>16642</th>\n",
       "      <td>March 2012</td>\n",
       "      <td>August 2012</td>\n",
       "    </tr>\n",
       "    <tr>\n",
       "      <th>16643</th>\n",
       "      <td>July 2012</td>\n",
       "      <td>May 22, 2015</td>\n",
       "    </tr>\n",
       "    <tr>\n",
       "      <th>16644</th>\n",
       "      <td>September 11, 2018</td>\n",
       "      <td>August 26, 2019</td>\n",
       "    </tr>\n",
       "    <tr>\n",
       "      <th>16645</th>\n",
       "      <td>July 2013</td>\n",
       "      <td>August 2015</td>\n",
       "    </tr>\n",
       "  </tbody>\n",
       "</table>\n",
       "<p>16646 rows × 2 columns</p>\n",
       "</div>"
      ],
      "text/plain": [
       "                    start             stop\n",
       "0          September 2002    December 2004\n",
       "1            October 2006      August 2009\n",
       "2                May 2006        July 2008\n",
       "3             August 2007     October 2011\n",
       "4           December 2006    December 2010\n",
       "...                   ...              ...\n",
       "16641       February 2007    December 2009\n",
       "16642          March 2012      August 2012\n",
       "16643           July 2012     May 22, 2015\n",
       "16644  September 11, 2018  August 26, 2019\n",
       "16645           July 2013      August 2015\n",
       "\n",
       "[16646 rows x 2 columns]"
      ]
     },
     "execution_count": 16,
     "metadata": {},
     "output_type": "execute_result"
    }
   ],
   "source": [
    "query = \"SELECT startdate as start, primarycompletiondate \\\n",
    "as stop FROM basic_info WHERE primarycompletiondate != '' AND startdate != '';\"\n",
    "dates = go(query)\n",
    "dates"
   ]
  },
  {
   "cell_type": "code",
   "execution_count": 17,
   "metadata": {},
   "outputs": [
    {
     "data": {
      "text/plain": [
       "Timedelta('1187 days 00:00:00')"
      ]
     },
     "execution_count": 17,
     "metadata": {},
     "output_type": "execute_result"
    }
   ],
   "source": [
    "study_length = pd.to_datetime(dates['stop'])-pd.to_datetime(dates['start'])\n",
    "study_length.median()"
   ]
  },
  {
   "cell_type": "code",
   "execution_count": 18,
   "metadata": {},
   "outputs": [
    {
     "data": {
      "text/html": [
       "<div>\n",
       "<style scoped>\n",
       "    .dataframe tbody tr th:only-of-type {\n",
       "        vertical-align: middle;\n",
       "    }\n",
       "\n",
       "    .dataframe tbody tr th {\n",
       "        vertical-align: top;\n",
       "    }\n",
       "\n",
       "    .dataframe thead th {\n",
       "        text-align: right;\n",
       "    }\n",
       "</style>\n",
       "<table border=\"1\" class=\"dataframe\">\n",
       "  <thead>\n",
       "    <tr style=\"text-align: right;\">\n",
       "      <th></th>\n",
       "      <th>idx</th>\n",
       "      <th>rank</th>\n",
       "      <th>nctid</th>\n",
       "      <th>designprimarypurpose</th>\n",
       "      <th>phase</th>\n",
       "      <th>designinterventionmodel</th>\n",
       "      <th>designinterventionmodeldescription</th>\n",
       "      <th>designwhomasked</th>\n",
       "      <th>designallocation</th>\n",
       "      <th>enrollmentcount</th>\n",
       "      <th>enrollmenttype</th>\n",
       "      <th>armgrouplabel</th>\n",
       "      <th>armgrouptype</th>\n",
       "      <th>armgroupdescription</th>\n",
       "      <th>interventiontype</th>\n",
       "      <th>interventionname</th>\n",
       "      <th>interventionothername</th>\n",
       "      <th>interventiondescription</th>\n",
       "    </tr>\n",
       "  </thead>\n",
       "  <tbody>\n",
       "    <tr>\n",
       "      <th>0</th>\n",
       "      <td>0</td>\n",
       "      <td>1</td>\n",
       "      <td>NCT00049660</td>\n",
       "      <td>Treatment</td>\n",
       "      <td>Phase 2|Phase 3</td>\n",
       "      <td></td>\n",
       "      <td></td>\n",
       "      <td></td>\n",
       "      <td>Randomized</td>\n",
       "      <td>47.0</td>\n",
       "      <td>Actual</td>\n",
       "      <td></td>\n",
       "      <td></td>\n",
       "      <td></td>\n",
       "      <td>Drug|Drug</td>\n",
       "      <td>capecitabine|vinorelbine tartrate</td>\n",
       "      <td></td>\n",
       "      <td></td>\n",
       "    </tr>\n",
       "    <tr>\n",
       "      <th>1</th>\n",
       "      <td>1</td>\n",
       "      <td>2</td>\n",
       "      <td>NCT00503321</td>\n",
       "      <td>Treatment</td>\n",
       "      <td>Phase 2|Phase 3</td>\n",
       "      <td>Parallel Assignment</td>\n",
       "      <td></td>\n",
       "      <td></td>\n",
       "      <td>Randomized</td>\n",
       "      <td>13.0</td>\n",
       "      <td>Actual</td>\n",
       "      <td>Arm B|Arm A</td>\n",
       "      <td>Experimental|Active Comparator</td>\n",
       "      <td>S-1 plus PSK group|S-1 alone</td>\n",
       "      <td>Drug|Drug</td>\n",
       "      <td>Tegafur/gimeracil/oteracil potassium (S-1), Kr...</td>\n",
       "      <td>S-1 plus PSK|S-1 alone</td>\n",
       "      <td>S-1 80mg/m2 4weeks on 2 weeks off, PSK 3g/day|...</td>\n",
       "    </tr>\n",
       "    <tr>\n",
       "      <th>2</th>\n",
       "      <td>2</td>\n",
       "      <td>3</td>\n",
       "      <td>NCT00312442</td>\n",
       "      <td>Treatment</td>\n",
       "      <td>Phase 2|Phase 3</td>\n",
       "      <td>Single Group Assignment</td>\n",
       "      <td></td>\n",
       "      <td></td>\n",
       "      <td>Non-Randomized</td>\n",
       "      <td>16.0</td>\n",
       "      <td>Actual</td>\n",
       "      <td>WST 09</td>\n",
       "      <td>Experimental</td>\n",
       "      <td>Treatment with WST09-mediated VTP</td>\n",
       "      <td>Drug</td>\n",
       "      <td>Treatment with WST09 Vascular Photodynamic the...</td>\n",
       "      <td></td>\n",
       "      <td></td>\n",
       "    </tr>\n",
       "    <tr>\n",
       "      <th>3</th>\n",
       "      <td>3</td>\n",
       "      <td>4</td>\n",
       "      <td>NCT00507429</td>\n",
       "      <td>Treatment</td>\n",
       "      <td>Phase 2|Phase 3</td>\n",
       "      <td>Parallel Assignment</td>\n",
       "      <td></td>\n",
       "      <td></td>\n",
       "      <td>Randomized</td>\n",
       "      <td>80.0</td>\n",
       "      <td>Actual</td>\n",
       "      <td>Arm 1: CA4P + Carboplatin + paclitaxel|Arm 2: ...</td>\n",
       "      <td>Experimental|Active Comparator</td>\n",
       "      <td>Six 21-day cycles: CA4P (60 mg/m2 on Days 1, 8...</td>\n",
       "      <td>Drug|Drug|Drug</td>\n",
       "      <td>CA4P|paclitaxel|carboplatin</td>\n",
       "      <td>combretastatin|fosbretabulin|Zybrestat|Taxol|P...</td>\n",
       "      <td>CA4P 60mg/m squared for Days 1, 8, 15 for 6 cy...</td>\n",
       "    </tr>\n",
       "  </tbody>\n",
       "</table>\n",
       "</div>"
      ],
      "text/plain": [
       "   idx  rank        nctid designprimarypurpose            phase  \\\n",
       "0    0     1  NCT00049660            Treatment  Phase 2|Phase 3   \n",
       "1    1     2  NCT00503321            Treatment  Phase 2|Phase 3   \n",
       "2    2     3  NCT00312442            Treatment  Phase 2|Phase 3   \n",
       "3    3     4  NCT00507429            Treatment  Phase 2|Phase 3   \n",
       "\n",
       "   designinterventionmodel designinterventionmodeldescription designwhomasked  \\\n",
       "0                                                                               \n",
       "1      Parallel Assignment                                                      \n",
       "2  Single Group Assignment                                                      \n",
       "3      Parallel Assignment                                                      \n",
       "\n",
       "  designallocation enrollmentcount enrollmenttype  \\\n",
       "0       Randomized            47.0         Actual   \n",
       "1       Randomized            13.0         Actual   \n",
       "2   Non-Randomized            16.0         Actual   \n",
       "3       Randomized            80.0         Actual   \n",
       "\n",
       "                                       armgrouplabel  \\\n",
       "0                                                      \n",
       "1                                        Arm B|Arm A   \n",
       "2                                             WST 09   \n",
       "3  Arm 1: CA4P + Carboplatin + paclitaxel|Arm 2: ...   \n",
       "\n",
       "                     armgrouptype  \\\n",
       "0                                   \n",
       "1  Experimental|Active Comparator   \n",
       "2                    Experimental   \n",
       "3  Experimental|Active Comparator   \n",
       "\n",
       "                                 armgroupdescription interventiontype  \\\n",
       "0                                                           Drug|Drug   \n",
       "1                       S-1 plus PSK group|S-1 alone        Drug|Drug   \n",
       "2                  Treatment with WST09-mediated VTP             Drug   \n",
       "3  Six 21-day cycles: CA4P (60 mg/m2 on Days 1, 8...   Drug|Drug|Drug   \n",
       "\n",
       "                                    interventionname  \\\n",
       "0                  capecitabine|vinorelbine tartrate   \n",
       "1  Tegafur/gimeracil/oteracil potassium (S-1), Kr...   \n",
       "2  Treatment with WST09 Vascular Photodynamic the...   \n",
       "3                        CA4P|paclitaxel|carboplatin   \n",
       "\n",
       "                               interventionothername  \\\n",
       "0                                                      \n",
       "1                             S-1 plus PSK|S-1 alone   \n",
       "2                                                      \n",
       "3  combretastatin|fosbretabulin|Zybrestat|Taxol|P...   \n",
       "\n",
       "                             interventiondescription  \n",
       "0                                                     \n",
       "1  S-1 80mg/m2 4weeks on 2 weeks off, PSK 3g/day|...  \n",
       "2                                                     \n",
       "3  CA4P 60mg/m squared for Days 1, 8, 15 for 6 cy...  "
      ]
     },
     "execution_count": 18,
     "metadata": {},
     "output_type": "execute_result"
    }
   ],
   "source": [
    "query = \"SELECT * FROM study_design LIMIT 4;\"\n",
    "\n",
    "pd.read_sql_query(query, conn)"
   ]
  },
  {
   "cell_type": "code",
   "execution_count": 19,
   "metadata": {},
   "outputs": [
    {
     "data": {
      "text/html": [
       "<div>\n",
       "<style scoped>\n",
       "    .dataframe tbody tr th:only-of-type {\n",
       "        vertical-align: middle;\n",
       "    }\n",
       "\n",
       "    .dataframe tbody tr th {\n",
       "        vertical-align: top;\n",
       "    }\n",
       "\n",
       "    .dataframe thead th {\n",
       "        text-align: right;\n",
       "    }\n",
       "</style>\n",
       "<table border=\"1\" class=\"dataframe\">\n",
       "  <thead>\n",
       "    <tr style=\"text-align: right;\">\n",
       "      <th></th>\n",
       "      <th>dim</th>\n",
       "      <th>count</th>\n",
       "    </tr>\n",
       "  </thead>\n",
       "  <tbody>\n",
       "    <tr>\n",
       "      <th>0</th>\n",
       "      <td>Parallel Assignment</td>\n",
       "      <td>1380</td>\n",
       "    </tr>\n",
       "    <tr>\n",
       "      <th>1</th>\n",
       "      <td>Crossover Assignment</td>\n",
       "      <td>40</td>\n",
       "    </tr>\n",
       "    <tr>\n",
       "      <th>2</th>\n",
       "      <td>Sequential Assignment</td>\n",
       "      <td>42</td>\n",
       "    </tr>\n",
       "    <tr>\n",
       "      <th>3</th>\n",
       "      <td></td>\n",
       "      <td>160</td>\n",
       "    </tr>\n",
       "    <tr>\n",
       "      <th>4</th>\n",
       "      <td>Factorial Assignment</td>\n",
       "      <td>18</td>\n",
       "    </tr>\n",
       "    <tr>\n",
       "      <th>5</th>\n",
       "      <td>Single Group Assignment</td>\n",
       "      <td>2170</td>\n",
       "    </tr>\n",
       "  </tbody>\n",
       "</table>\n",
       "</div>"
      ],
      "text/plain": [
       "                       dim  count\n",
       "0      Parallel Assignment   1380\n",
       "1     Crossover Assignment     40\n",
       "2    Sequential Assignment     42\n",
       "3                             160\n",
       "4     Factorial Assignment     18\n",
       "5  Single Group Assignment   2170"
      ]
     },
     "execution_count": 19,
     "metadata": {},
     "output_type": "execute_result"
    }
   ],
   "source": [
    "query = \"WITH temp as \\\n",
    "(SELECT basic_info.overallstatus as overallstatus, study_design.designinterventionmodel as dim \\\n",
    "FROM basic_info LEFT JOIN study_design ON basic_info.nctid = study_design.nctid) \\\n",
    "SELECT dim, COUNT(*) FROM temp WHERE overallstatus = 'Terminated' \\\n",
    "GROUP BY dim;\"\n",
    "\n",
    "go(query)"
   ]
  },
  {
   "cell_type": "code",
   "execution_count": 20,
   "metadata": {},
   "outputs": [
    {
     "data": {
      "text/html": [
       "<div>\n",
       "<style scoped>\n",
       "    .dataframe tbody tr th:only-of-type {\n",
       "        vertical-align: middle;\n",
       "    }\n",
       "\n",
       "    .dataframe tbody tr th {\n",
       "        vertical-align: top;\n",
       "    }\n",
       "\n",
       "    .dataframe thead th {\n",
       "        text-align: right;\n",
       "    }\n",
       "</style>\n",
       "<table border=\"1\" class=\"dataframe\">\n",
       "  <thead>\n",
       "    <tr style=\"text-align: right;\">\n",
       "      <th></th>\n",
       "      <th>dim</th>\n",
       "      <th>count</th>\n",
       "    </tr>\n",
       "  </thead>\n",
       "  <tbody>\n",
       "    <tr>\n",
       "      <th>0</th>\n",
       "      <td>Parallel Assignment</td>\n",
       "      <td>5150</td>\n",
       "    </tr>\n",
       "    <tr>\n",
       "      <th>1</th>\n",
       "      <td>Crossover Assignment</td>\n",
       "      <td>215</td>\n",
       "    </tr>\n",
       "    <tr>\n",
       "      <th>2</th>\n",
       "      <td>Sequential Assignment</td>\n",
       "      <td>99</td>\n",
       "    </tr>\n",
       "    <tr>\n",
       "      <th>3</th>\n",
       "      <td></td>\n",
       "      <td>1582</td>\n",
       "    </tr>\n",
       "    <tr>\n",
       "      <th>4</th>\n",
       "      <td>Single Group Assignment</td>\n",
       "      <td>7155</td>\n",
       "    </tr>\n",
       "    <tr>\n",
       "      <th>5</th>\n",
       "      <td>Factorial Assignment</td>\n",
       "      <td>114</td>\n",
       "    </tr>\n",
       "  </tbody>\n",
       "</table>\n",
       "</div>"
      ],
      "text/plain": [
       "                       dim  count\n",
       "0      Parallel Assignment   5150\n",
       "1     Crossover Assignment    215\n",
       "2    Sequential Assignment     99\n",
       "3                            1582\n",
       "4  Single Group Assignment   7155\n",
       "5     Factorial Assignment    114"
      ]
     },
     "execution_count": 20,
     "metadata": {},
     "output_type": "execute_result"
    }
   ],
   "source": [
    "query = \"WITH temp as \\\n",
    "(SELECT basic_info.overallstatus as overallstatus, study_design.designinterventionmodel as dim \\\n",
    "FROM basic_info LEFT JOIN study_design ON basic_info.nctid = study_design.nctid) \\\n",
    "SELECT dim, COUNT(*) FROM temp WHERE overallstatus = 'Completed' \\\n",
    "GROUP BY dim;\"\n",
    "\n",
    "go(query)"
   ]
  },
  {
   "cell_type": "markdown",
   "metadata": {},
   "source": [
    "I really don't understand why the below query failed yet"
   ]
  },
  {
   "cell_type": "code",
   "execution_count": 35,
   "metadata": {},
   "outputs": [
    {
     "data": {
      "text/html": [
       "<div>\n",
       "<style scoped>\n",
       "    .dataframe tbody tr th:only-of-type {\n",
       "        vertical-align: middle;\n",
       "    }\n",
       "\n",
       "    .dataframe tbody tr th {\n",
       "        vertical-align: top;\n",
       "    }\n",
       "\n",
       "    .dataframe thead th {\n",
       "        text-align: right;\n",
       "    }\n",
       "</style>\n",
       "<table border=\"1\" class=\"dataframe\">\n",
       "  <thead>\n",
       "    <tr style=\"text-align: right;\">\n",
       "      <th></th>\n",
       "      <th>designprimarypurpose</th>\n",
       "      <th>total</th>\n",
       "    </tr>\n",
       "  </thead>\n",
       "  <tbody>\n",
       "    <tr>\n",
       "      <th>0</th>\n",
       "      <td>Treatment</td>\n",
       "      <td>2219652.0</td>\n",
       "    </tr>\n",
       "    <tr>\n",
       "      <th>1</th>\n",
       "      <td>Prevention</td>\n",
       "      <td>356227.0</td>\n",
       "    </tr>\n",
       "    <tr>\n",
       "      <th>2</th>\n",
       "      <td>Screening</td>\n",
       "      <td>113228.0</td>\n",
       "    </tr>\n",
       "    <tr>\n",
       "      <th>3</th>\n",
       "      <td>Supportive Care</td>\n",
       "      <td>97896.0</td>\n",
       "    </tr>\n",
       "    <tr>\n",
       "      <th>4</th>\n",
       "      <td>Diagnostic</td>\n",
       "      <td>68431.0</td>\n",
       "    </tr>\n",
       "    <tr>\n",
       "      <th>5</th>\n",
       "      <td></td>\n",
       "      <td>21885.0</td>\n",
       "    </tr>\n",
       "    <tr>\n",
       "      <th>6</th>\n",
       "      <td>Health Services Research</td>\n",
       "      <td>6131.0</td>\n",
       "    </tr>\n",
       "    <tr>\n",
       "      <th>7</th>\n",
       "      <td>Other</td>\n",
       "      <td>4996.0</td>\n",
       "    </tr>\n",
       "    <tr>\n",
       "      <th>8</th>\n",
       "      <td>Basic Science</td>\n",
       "      <td>2256.0</td>\n",
       "    </tr>\n",
       "    <tr>\n",
       "      <th>9</th>\n",
       "      <td>Educational/Counseling/Training</td>\n",
       "      <td>1310.0</td>\n",
       "    </tr>\n",
       "    <tr>\n",
       "      <th>10</th>\n",
       "      <td>Device Feasibility</td>\n",
       "      <td>42.0</td>\n",
       "    </tr>\n",
       "  </tbody>\n",
       "</table>\n",
       "</div>"
      ],
      "text/plain": [
       "               designprimarypurpose      total\n",
       "0                         Treatment  2219652.0\n",
       "1                        Prevention   356227.0\n",
       "2                         Screening   113228.0\n",
       "3                   Supportive Care    97896.0\n",
       "4                        Diagnostic    68431.0\n",
       "5                                      21885.0\n",
       "6          Health Services Research     6131.0\n",
       "7                             Other     4996.0\n",
       "8                     Basic Science     2256.0\n",
       "9   Educational/Counseling/Training     1310.0\n",
       "10               Device Feasibility       42.0"
      ]
     },
     "execution_count": 35,
     "metadata": {},
     "output_type": "execute_result"
    }
   ],
   "source": [
    "query = \"SELECT designprimarypurpose, SUM(CAST(enrollmentcount AS DOUBLE PRECISION)) as total \\\n",
    "FROM study_design WHERE enrollmentcount != '' \\\n",
    "GROUP BY designprimarypurpose ORDER BY total DESC;\"\n",
    "\n",
    "go(query)"
   ]
  },
  {
   "cell_type": "code",
   "execution_count": 50,
   "metadata": {},
   "outputs": [
    {
     "data": {
      "text/html": [
       "<div>\n",
       "<style scoped>\n",
       "    .dataframe tbody tr th:only-of-type {\n",
       "        vertical-align: middle;\n",
       "    }\n",
       "\n",
       "    .dataframe tbody tr th {\n",
       "        vertical-align: top;\n",
       "    }\n",
       "\n",
       "    .dataframe thead th {\n",
       "        text-align: right;\n",
       "    }\n",
       "</style>\n",
       "<table border=\"1\" class=\"dataframe\">\n",
       "  <thead>\n",
       "    <tr style=\"text-align: right;\">\n",
       "      <th></th>\n",
       "      <th>designprimarypurpose</th>\n",
       "      <th>sum</th>\n",
       "    </tr>\n",
       "  </thead>\n",
       "  <tbody>\n",
       "    <tr>\n",
       "      <th>0</th>\n",
       "      <td>Diagnostic</td>\n",
       "      <td>68431.0</td>\n",
       "    </tr>\n",
       "    <tr>\n",
       "      <th>1</th>\n",
       "      <td>Prevention</td>\n",
       "      <td>356227.0</td>\n",
       "    </tr>\n",
       "    <tr>\n",
       "      <th>2</th>\n",
       "      <td>Treatment</td>\n",
       "      <td>2219652.0</td>\n",
       "    </tr>\n",
       "    <tr>\n",
       "      <th>3</th>\n",
       "      <td></td>\n",
       "      <td>21885.0</td>\n",
       "    </tr>\n",
       "    <tr>\n",
       "      <th>4</th>\n",
       "      <td>Supportive Care</td>\n",
       "      <td>97896.0</td>\n",
       "    </tr>\n",
       "    <tr>\n",
       "      <th>5</th>\n",
       "      <td>Screening</td>\n",
       "      <td>113228.0</td>\n",
       "    </tr>\n",
       "  </tbody>\n",
       "</table>\n",
       "</div>"
      ],
      "text/plain": [
       "  designprimarypurpose        sum\n",
       "0           Diagnostic    68431.0\n",
       "1           Prevention   356227.0\n",
       "2            Treatment  2219652.0\n",
       "3                         21885.0\n",
       "4      Supportive Care    97896.0\n",
       "5            Screening   113228.0"
      ]
     },
     "execution_count": 50,
     "metadata": {},
     "output_type": "execute_result"
    }
   ],
   "source": [
    "query = \"SELECT designprimarypurpose, SUM(CAST(enrollmentcount AS DOUBLE PRECISION)) \\\n",
    "FROM study_design WHERE enrollmentcount != '' \\\n",
    "GROUP BY designprimarypurpose HAVING SUM(CAST(enrollmentcount AS DOUBLE PRECISION))\\\n",
    " > 10000.0;\"\n",
    "\n",
    "go(query)"
   ]
  },
  {
   "cell_type": "code",
   "execution_count": 55,
   "metadata": {},
   "outputs": [
    {
     "data": {
      "text/html": [
       "<div>\n",
       "<style scoped>\n",
       "    .dataframe tbody tr th:only-of-type {\n",
       "        vertical-align: middle;\n",
       "    }\n",
       "\n",
       "    .dataframe tbody tr th {\n",
       "        vertical-align: top;\n",
       "    }\n",
       "\n",
       "    .dataframe thead th {\n",
       "        text-align: right;\n",
       "    }\n",
       "</style>\n",
       "<table border=\"1\" class=\"dataframe\">\n",
       "  <thead>\n",
       "    <tr style=\"text-align: right;\">\n",
       "      <th></th>\n",
       "      <th>armgrouptype</th>\n",
       "      <th>count</th>\n",
       "    </tr>\n",
       "  </thead>\n",
       "  <tbody>\n",
       "    <tr>\n",
       "      <th>0</th>\n",
       "      <td></td>\n",
       "      <td>172</td>\n",
       "    </tr>\n",
       "    <tr>\n",
       "      <th>1</th>\n",
       "      <td>Experimental</td>\n",
       "      <td>159</td>\n",
       "    </tr>\n",
       "    <tr>\n",
       "      <th>2</th>\n",
       "      <td>Experimental|Experimental</td>\n",
       "      <td>45</td>\n",
       "    </tr>\n",
       "    <tr>\n",
       "      <th>3</th>\n",
       "      <td>Experimental|Active Comparator</td>\n",
       "      <td>31</td>\n",
       "    </tr>\n",
       "  </tbody>\n",
       "</table>\n",
       "</div>"
      ],
      "text/plain": [
       "                     armgrouptype  count\n",
       "0                                    172\n",
       "1                    Experimental    159\n",
       "2       Experimental|Experimental     45\n",
       "3  Experimental|Active Comparator     31"
      ]
     },
     "execution_count": 55,
     "metadata": {},
     "output_type": "execute_result"
    }
   ],
   "source": [
    "query = \"SELECT armgrouptype, COUNT(*) \\\n",
    "FROM study_design WHERE interventionname LIKE '%paclitaxel%' \\\n",
    "GROUP BY armgrouptype ORDER BY COUNT(*) DESC LIMIT 4;\"\n",
    "\n",
    "go(query)"
   ]
  },
  {
   "cell_type": "code",
   "execution_count": 57,
   "metadata": {},
   "outputs": [],
   "source": [
    "cursor = conn.cursor()"
   ]
  },
  {
   "cell_type": "code",
   "execution_count": 61,
   "metadata": {},
   "outputs": [],
   "source": [
    "cursor.execute(\"SELECT condition, whystopped FROM basic_info WHERE overallstatus = 'Terminated' AND \\\n",
    " whystopped LIKE '%accrual%';\")"
   ]
  },
  {
   "cell_type": "code",
   "execution_count": 62,
   "metadata": {},
   "outputs": [
    {
     "data": {
      "text/plain": [
       "('Breast Cancer', 'low accrual')"
      ]
     },
     "execution_count": 62,
     "metadata": {},
     "output_type": "execute_result"
    }
   ],
   "source": [
    "cursor.fetchone()"
   ]
  },
  {
   "cell_type": "code",
   "execution_count": 63,
   "metadata": {},
   "outputs": [
    {
     "data": {
      "text/plain": [
       "('Anaplastic Thyroid Cancer', 'Low rate of subject accrual')"
      ]
     },
     "execution_count": 63,
     "metadata": {},
     "output_type": "execute_result"
    }
   ],
   "source": [
    "cursor.fetchone()"
   ]
  },
  {
   "cell_type": "code",
   "execution_count": 64,
   "metadata": {},
   "outputs": [
    {
     "data": {
      "text/plain": [
       "[('Post-operative Pneumonia|Lung Cancer|Esophageal Cancer',\n",
       "  'Slow patient accrual and plans to perform multi-center study'),\n",
       " ('Anal Cancer', 'low accrual'),\n",
       " ('Advanced Cancers', 'Terminated due to low accrual.')]"
      ]
     },
     "execution_count": 64,
     "metadata": {},
     "output_type": "execute_result"
    }
   ],
   "source": [
    "cursor.fetchmany(3)"
   ]
  },
  {
   "cell_type": "code",
   "execution_count": 65,
   "metadata": {},
   "outputs": [],
   "source": [
    "cursor.execute(\"SELECT condition, whystopped FROM basic_info WHERE overallstatus = 'Terminated' AND \\\n",
    " whystopped LIKE '%safety%';\")"
   ]
  },
  {
   "cell_type": "code",
   "execution_count": 67,
   "metadata": {},
   "outputs": [
    {
     "data": {
      "text/plain": [
       "[('Breast Cancer',\n",
       "  'Terminated: Amgen decision following Primary Analysis. Not due to safety reason'),\n",
       " ('Pain|Neoplasms|Chronic Pain',\n",
       "  'low accrual made the study no longer feasible/decision not related to safety and efficacy'),\n",
       " ('Prostatic Neoplasms',\n",
       "  'Study A6181120 was prematurely discontinued due to futility on 27 September 2010. No new or unexpected safety issues were identified.')]"
      ]
     },
     "execution_count": 67,
     "metadata": {},
     "output_type": "execute_result"
    }
   ],
   "source": [
    "cursor.fetchmany(3)"
   ]
  },
  {
   "cell_type": "code",
   "execution_count": null,
   "metadata": {},
   "outputs": [],
   "source": []
  }
 ],
 "metadata": {
  "kernelspec": {
   "display_name": "Python 3",
   "language": "python",
   "name": "python3"
  },
  "language_info": {
   "codemirror_mode": {
    "name": "ipython",
    "version": 3
   },
   "file_extension": ".py",
   "mimetype": "text/x-python",
   "name": "python",
   "nbconvert_exporter": "python",
   "pygments_lexer": "ipython3",
   "version": "3.7.6"
  }
 },
 "nbformat": 4,
 "nbformat_minor": 4
}
