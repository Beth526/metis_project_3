{
 "cells": [
  {
   "cell_type": "code",
   "execution_count": 1,
   "metadata": {},
   "outputs": [],
   "source": [
    "import os\n",
    "os.chdir('/Users/beth/Documents/Metis/metis_project_3_files/clinical_trials/')\n",
    "import pandas as pd\n",
    "import numpy as np\n",
    "\n",
    "\n",
    "from sklearn.linear_model import LogisticRegression\n",
    "from sklearn.ensemble import RandomForestClassifier\n",
    "from sklearn.neighbors import KNeighborsClassifier\n",
    "from sklearn.svm import SVC\n",
    "from sklearn.naive_bayes import MultinomialNB, ComplementNB\n",
    "\n",
    "from sklearn.model_selection import train_test_split\n",
    "from sklearn.metrics import plot_confusion_matrix, plot_roc_curve, classification_report\n",
    "from sklearn.preprocessing import StandardScaler\n",
    "from sklearn.metrics import confusion_matrix\n",
    "from sklearn.impute import KNNImputer\n",
    "from sklearn.metrics import roc_curve, f1_score\n",
    "from sklearn.model_selection import StratifiedKFold\n",
    "from sklearn.model_selection import GridSearchCV\n",
    "from imblearn.over_sampling import ADASYN\n",
    "\n",
    "import seaborn as sns\n",
    "import matplotlib.pyplot as plt\n",
    "import pickle\n"
   ]
  },
  {
   "cell_type": "markdown",
   "metadata": {},
   "source": [
    "# Import data"
   ]
  },
  {
   "cell_type": "code",
   "execution_count": 2,
   "metadata": {},
   "outputs": [],
   "source": [
    "basic_info_df = pd.read_csv('All_basic_info_pandas.csv', quotechar='\"')\n",
    "basic_info_df.drop(['Unnamed: 0','Rank','BriefTitle', 'Condition', \\\n",
    "            'Keyword','WhyStopped','StartDate','PrimaryCompletionDate','CompletionDate'],\\\n",
    "               axis=1, inplace=True)\n",
    "basic_info_df=basic_info_df.add_suffix('_basic')"
   ]
  },
  {
   "cell_type": "code",
   "execution_count": 3,
   "metadata": {},
   "outputs": [],
   "source": [
    "outcomes_df = pd.read_csv('All_outcomes_pandas.csv', quotechar='\"')\n",
    "outcomes_df.drop(['Unnamed: 0','Rank'], axis=1, inplace=True)\n",
    "outcomes_df=outcomes_df.add_suffix('_outcome')"
   ]
  },
  {
   "cell_type": "code",
   "execution_count": 4,
   "metadata": {},
   "outputs": [],
   "source": [
    "study_design_df = pd.read_csv('All_study_design_pandas.csv', quotechar='\"')\n",
    "study_design_df.drop(['Unnamed: 0','Rank','DesignPrimaryPurpose','Phase','DesignInterventionModel','DesignInterventionModelDescription',\\\n",
    "            'DesignWhoMasked','DesignAllocation','ArmGroupLabel','EnrollmentType','EnrollmentCount',\\\n",
    "            'ArmGroupType','ArmGroupDescription','InterventionType','InterventionName',\\\n",
    "            'InterventionOtherName','InterventionDescription'], axis=1, inplace=True)\n",
    "study_design_df=study_design_df.add_suffix('_design')"
   ]
  },
  {
   "cell_type": "code",
   "execution_count": 5,
   "metadata": {},
   "outputs": [],
   "source": [
    "eligibility_df = pd.read_csv('All_elig_df_pandas.csv', quotechar='\"')\n",
    "eligibility_df.drop(['Unnamed: 0','Rank','Gender','GenderBased','MinimumAge',\\\n",
    "            'MaximumAge','HealthyVolunteers','EligibilityCriteria','IPDSharing', \\\n",
    "            'ResponsiblePartyType','ResponsiblePartyInvestigatorAffiliation','LeadSponsorName','CollaboratorName', \\\n",
    "            'OverallOfficialAffiliation','LocationFacility','LocationCity','LocationState','LocationCountry'],\\\n",
    "            axis=1, inplace=True)\n",
    "eligibility_df=eligibility_df.add_suffix('_elig')"
   ]
  },
  {
   "cell_type": "code",
   "execution_count": 6,
   "metadata": {},
   "outputs": [],
   "source": [
    "investigators_df = pd.read_csv('All_invest_df_pandas.csv', quotechar='\"')\n",
    "investigators_df.drop(['Unnamed: 0','Rank','nan',\"For additional information regarding investigative sites for this trial, contact 1-877-CTLILLY (1-877-285-4559, 1-317-615-4559) Mon - Fri from 9 AM to 5 PM Eastern Time (UTC/GMT - 5 hours, EST), or speak with your personal physician.\", \\\n",
    "            'nan.1',\"For additional information regarding investigative sites for this trial, contact 1-877-CTLILLY (1-877-285-4559, 1-317-615-4559) Monday-Friday from 9:00 AM to 5:00 PM Eastern Time (UTC/GMT - 5 hours, EST), or speak with your personal physician\"], \\\n",
    "            axis=1,inplace=True)"
   ]
  },
  {
   "cell_type": "code",
   "execution_count": 7,
   "metadata": {},
   "outputs": [],
   "source": [
    "final = pd.merge(basic_info_df,outcomes_df,how=\"inner\",left_on='NCTId_basic', right_on='NCTId_outcome')\n",
    "final = pd.merge(final,study_design_df,how=\"inner\",left_on='NCTId_basic', right_on='NCTId_design')\n",
    "final = pd.merge(final,eligibility_df,how=\"inner\",left_on='NCTId_basic', right_on='NCTId_elig')\n",
    "final = pd.merge(final,investigators_df,how=\"inner\",left_on='NCTId_basic', right_on='NCTId')"
   ]
  },
  {
   "cell_type": "code",
   "execution_count": 8,
   "metadata": {},
   "outputs": [],
   "source": [
    "del basic_info_df, outcomes_df, study_design_df, eligibility_df, investigators_df "
   ]
  },
  {
   "cell_type": "code",
   "execution_count": 9,
   "metadata": {},
   "outputs": [
    {
     "data": {
      "text/html": [
       "<div>\n",
       "<style scoped>\n",
       "    .dataframe tbody tr th:only-of-type {\n",
       "        vertical-align: middle;\n",
       "    }\n",
       "\n",
       "    .dataframe tbody tr th {\n",
       "        vertical-align: top;\n",
       "    }\n",
       "\n",
       "    .dataframe thead th {\n",
       "        text-align: right;\n",
       "    }\n",
       "</style>\n",
       "<table border=\"1\" class=\"dataframe\">\n",
       "  <thead>\n",
       "    <tr style=\"text-align: right;\">\n",
       "      <th></th>\n",
       "      <th>NCTId</th>\n",
       "      <th>NCTId_basic</th>\n",
       "      <th>NCTId_elig</th>\n",
       "      <th>NCTId_design</th>\n",
       "      <th>NCTId_outcome</th>\n",
       "    </tr>\n",
       "  </thead>\n",
       "  <tbody>\n",
       "    <tr>\n",
       "      <th>0</th>\n",
       "      <td>NCT00049660</td>\n",
       "      <td>NCT00049660</td>\n",
       "      <td>NCT00049660</td>\n",
       "      <td>NCT00049660</td>\n",
       "      <td>NCT00049660</td>\n",
       "    </tr>\n",
       "    <tr>\n",
       "      <th>1</th>\n",
       "      <td>NCT00503321</td>\n",
       "      <td>NCT00503321</td>\n",
       "      <td>NCT00503321</td>\n",
       "      <td>NCT00503321</td>\n",
       "      <td>NCT00503321</td>\n",
       "    </tr>\n",
       "    <tr>\n",
       "      <th>2</th>\n",
       "      <td>NCT00312442</td>\n",
       "      <td>NCT00312442</td>\n",
       "      <td>NCT00312442</td>\n",
       "      <td>NCT00312442</td>\n",
       "      <td>NCT00312442</td>\n",
       "    </tr>\n",
       "    <tr>\n",
       "      <th>3</th>\n",
       "      <td>NCT00507429</td>\n",
       "      <td>NCT00507429</td>\n",
       "      <td>NCT00507429</td>\n",
       "      <td>NCT00507429</td>\n",
       "      <td>NCT00507429</td>\n",
       "    </tr>\n",
       "    <tr>\n",
       "      <th>4</th>\n",
       "      <td>NCT00418574</td>\n",
       "      <td>NCT00418574</td>\n",
       "      <td>NCT00418574</td>\n",
       "      <td>NCT00418574</td>\n",
       "      <td>NCT00418574</td>\n",
       "    </tr>\n",
       "    <tr>\n",
       "      <th>...</th>\n",
       "      <td>...</td>\n",
       "      <td>...</td>\n",
       "      <td>...</td>\n",
       "      <td>...</td>\n",
       "      <td>...</td>\n",
       "    </tr>\n",
       "    <tr>\n",
       "      <th>18120</th>\n",
       "      <td>NCT03560739</td>\n",
       "      <td>NCT03560739</td>\n",
       "      <td>NCT03560739</td>\n",
       "      <td>NCT03560739</td>\n",
       "      <td>NCT03560739</td>\n",
       "    </tr>\n",
       "    <tr>\n",
       "      <th>18121</th>\n",
       "      <td>NCT00034021</td>\n",
       "      <td>NCT00034021</td>\n",
       "      <td>NCT00034021</td>\n",
       "      <td>NCT00034021</td>\n",
       "      <td>NCT00034021</td>\n",
       "    </tr>\n",
       "    <tr>\n",
       "      <th>18122</th>\n",
       "      <td>NCT01256437</td>\n",
       "      <td>NCT01256437</td>\n",
       "      <td>NCT01256437</td>\n",
       "      <td>NCT01256437</td>\n",
       "      <td>NCT01256437</td>\n",
       "    </tr>\n",
       "    <tr>\n",
       "      <th>18123</th>\n",
       "      <td>NCT01484184</td>\n",
       "      <td>NCT01484184</td>\n",
       "      <td>NCT01484184</td>\n",
       "      <td>NCT01484184</td>\n",
       "      <td>NCT01484184</td>\n",
       "    </tr>\n",
       "    <tr>\n",
       "      <th>18124</th>\n",
       "      <td>NCT00083707</td>\n",
       "      <td>NCT00083707</td>\n",
       "      <td>NCT00083707</td>\n",
       "      <td>NCT00083707</td>\n",
       "      <td>NCT00083707</td>\n",
       "    </tr>\n",
       "  </tbody>\n",
       "</table>\n",
       "<p>18125 rows × 5 columns</p>\n",
       "</div>"
      ],
      "text/plain": [
       "             NCTId  NCTId_basic   NCTId_elig NCTId_design NCTId_outcome\n",
       "0      NCT00049660  NCT00049660  NCT00049660  NCT00049660   NCT00049660\n",
       "1      NCT00503321  NCT00503321  NCT00503321  NCT00503321   NCT00503321\n",
       "2      NCT00312442  NCT00312442  NCT00312442  NCT00312442   NCT00312442\n",
       "3      NCT00507429  NCT00507429  NCT00507429  NCT00507429   NCT00507429\n",
       "4      NCT00418574  NCT00418574  NCT00418574  NCT00418574   NCT00418574\n",
       "...            ...          ...          ...          ...           ...\n",
       "18120  NCT03560739  NCT03560739  NCT03560739  NCT03560739   NCT03560739\n",
       "18121  NCT00034021  NCT00034021  NCT00034021  NCT00034021   NCT00034021\n",
       "18122  NCT01256437  NCT01256437  NCT01256437  NCT01256437   NCT01256437\n",
       "18123  NCT01484184  NCT01484184  NCT01484184  NCT01484184   NCT01484184\n",
       "18124  NCT00083707  NCT00083707  NCT00083707  NCT00083707   NCT00083707\n",
       "\n",
       "[18125 rows x 5 columns]"
      ]
     },
     "execution_count": 9,
     "metadata": {},
     "output_type": "execute_result"
    }
   ],
   "source": [
    "final.loc[:,['NCTId','NCTId_basic','NCTId_elig','NCTId_design','NCTId_outcome']]"
   ]
  },
  {
   "cell_type": "code",
   "execution_count": 10,
   "metadata": {},
   "outputs": [],
   "source": [
    "final.drop(['NCTId','NCTId_basic','NCTId_elig','NCTId_design','NCTId_outcome'],axis=1,inplace=True)"
   ]
  },
  {
   "cell_type": "markdown",
   "metadata": {},
   "source": [
    "# Train/Test 80/20 Split \n",
    "### And imputing null values"
   ]
  },
  {
   "cell_type": "code",
   "execution_count": 11,
   "metadata": {},
   "outputs": [
    {
     "data": {
      "text/plain": [
       "Index(['start_year_basic', 'start_month_basic', 'prim_max_time_days_outcome',\n",
       "       'NumberArms_design', 'location_count'],\n",
       "      dtype='object')"
      ]
     },
     "execution_count": 11,
     "metadata": {},
     "output_type": "execute_result"
    }
   ],
   "source": [
    "final.columns[final.isnull().sum(axis=0) > 0]"
   ]
  },
  {
   "cell_type": "code",
   "execution_count": 12,
   "metadata": {},
   "outputs": [
    {
     "data": {
      "text/plain": [
       "6186"
      ]
     },
     "execution_count": 12,
     "metadata": {},
     "output_type": "execute_result"
    }
   ],
   "source": [
    "final['prim_max_time_days_outcome'].isnull().sum(axis=0)"
   ]
  },
  {
   "cell_type": "code",
   "execution_count": 13,
   "metadata": {},
   "outputs": [
    {
     "data": {
      "text/plain": [
       "3611"
      ]
     },
     "execution_count": 13,
     "metadata": {},
     "output_type": "execute_result"
    }
   ],
   "source": [
    "final['NumberArms_design'].isnull().sum(axis=0)"
   ]
  },
  {
   "cell_type": "code",
   "execution_count": 14,
   "metadata": {},
   "outputs": [
    {
     "data": {
      "text/plain": [
       "1650"
      ]
     },
     "execution_count": 14,
     "metadata": {},
     "output_type": "execute_result"
    }
   ],
   "source": [
    "final['location_count'].isnull().sum(axis=0)"
   ]
  },
  {
   "cell_type": "code",
   "execution_count": 15,
   "metadata": {},
   "outputs": [
    {
     "data": {
      "text/plain": [
       "161"
      ]
     },
     "execution_count": 15,
     "metadata": {},
     "output_type": "execute_result"
    }
   ],
   "source": [
    "final['start_year_basic'].isnull().sum(axis=0)"
   ]
  },
  {
   "cell_type": "code",
   "execution_count": 16,
   "metadata": {},
   "outputs": [
    {
     "data": {
      "text/plain": [
       "161"
      ]
     },
     "execution_count": 16,
     "metadata": {},
     "output_type": "execute_result"
    }
   ],
   "source": [
    "final['start_month_basic'].isnull().sum(axis=0)"
   ]
  },
  {
   "cell_type": "markdown",
   "metadata": {},
   "source": [
    "I decided to use KNNImputer to fill in the values using the most common value from thier 5 K-nearest neighbors."
   ]
  },
  {
   "cell_type": "markdown",
   "metadata": {},
   "source": [
    "I only fit impute on the training data, and the apply the imputation transformation to the validation and test data. it is important to scale the data, and also only use the Training set. I am also going to make a new column for whether I imputed or not"
   ]
  },
  {
   "cell_type": "code",
   "execution_count": 17,
   "metadata": {},
   "outputs": [],
   "source": [
    "final['prim_max_time_imputed']=final['prim_max_time_days_outcome'].isnull()\n",
    "final['NumberArms_design_imputed']=final['NumberArms_design'].isnull()\n",
    "final['location_count_imputed']=final['location_count'].isnull()\n",
    "final['start_year_basic']=final['start_year_basic'].isnull()\n",
    "final['start_month_basic']=final['start_month_basic'].isnull()"
   ]
  },
  {
   "cell_type": "code",
   "execution_count": 18,
   "metadata": {},
   "outputs": [],
   "source": [
    "X=final.drop('OverallStatus_basic',axis=1)\n",
    "y=final['OverallStatus_basic']"
   ]
  },
  {
   "cell_type": "code",
   "execution_count": 21,
   "metadata": {},
   "outputs": [],
   "source": [
    "column_names = X.columns"
   ]
  },
  {
   "cell_type": "markdown",
   "metadata": {},
   "source": [
    "Test/train split. Cross-fold validation will be used of the training set"
   ]
  },
  {
   "cell_type": "code",
   "execution_count": 19,
   "metadata": {},
   "outputs": [],
   "source": [
    "X_train, X_test, y_train, y_test = train_test_split(X, y, stratify=y, test_size=0.2, shuffle=True, random_state=33)"
   ]
  },
  {
   "cell_type": "code",
   "execution_count": 20,
   "metadata": {},
   "outputs": [
    {
     "data": {
      "text/plain": [
       "(14500, 400)"
      ]
     },
     "execution_count": 20,
     "metadata": {},
     "output_type": "execute_result"
    }
   ],
   "source": [
    "X_train.shape"
   ]
  },
  {
   "cell_type": "code",
   "execution_count": 22,
   "metadata": {},
   "outputs": [
    {
     "data": {
      "text/plain": [
       "(3625, 400)"
      ]
     },
     "execution_count": 22,
     "metadata": {},
     "output_type": "execute_result"
    }
   ],
   "source": [
    "X_test.shape"
   ]
  },
  {
   "cell_type": "code",
   "execution_count": 24,
   "metadata": {},
   "outputs": [],
   "source": [
    "del final, X, y"
   ]
  },
  {
   "cell_type": "markdown",
   "metadata": {},
   "source": [
    "Using KNN Imputer"
   ]
  },
  {
   "cell_type": "code",
   "execution_count": 25,
   "metadata": {},
   "outputs": [],
   "source": [
    "ss = StandardScaler()\n",
    "X_train_scaled = ss.fit_transform(X_train)\n",
    "X_test_scaled = ss.transform(X_test)"
   ]
  },
  {
   "cell_type": "markdown",
   "metadata": {},
   "source": [
    "Saving the standard scaler for the App"
   ]
  },
  {
   "cell_type": "code",
   "execution_count": 32,
   "metadata": {},
   "outputs": [],
   "source": [
    "with open('scaling.pickle', 'wb') as write_file:\n",
    "    pickle.dump(ss, write_file)"
   ]
  },
  {
   "cell_type": "code",
   "execution_count": 36,
   "metadata": {},
   "outputs": [],
   "source": [
    "imputer = KNNImputer(n_neighbors=5)\n",
    "\n",
    "X_train_scaled = imputer.fit_transform(X_train_scaled)"
   ]
  },
  {
   "cell_type": "code",
   "execution_count": 30,
   "metadata": {},
   "outputs": [],
   "source": [
    "X_test_scaled = imputer.transform(X_test_scaled)"
   ]
  },
  {
   "cell_type": "code",
   "execution_count": 39,
   "metadata": {},
   "outputs": [],
   "source": [
    "X_train = ss.inverse_transform(X_train_scaled)\n",
    "\n",
    "X_test = ss.inverse_transform(X_test_scaled)"
   ]
  },
  {
   "cell_type": "markdown",
   "metadata": {},
   "source": [
    "Saving averages for for the App"
   ]
  },
  {
   "cell_type": "code",
   "execution_count": 40,
   "metadata": {},
   "outputs": [],
   "source": [
    "averages=X_train.mean(axis=0)"
   ]
  },
  {
   "cell_type": "code",
   "execution_count": 41,
   "metadata": {},
   "outputs": [],
   "source": [
    "with open('average.pickle', 'wb') as write_file:\n",
    "    pickle.dump(averages, write_file)"
   ]
  },
  {
   "cell_type": "markdown",
   "metadata": {},
   "source": [
    "Pickling so I can pick up at this step later"
   ]
  },
  {
   "cell_type": "code",
   "execution_count": 32,
   "metadata": {},
   "outputs": [],
   "source": [
    "with open('X_test.pickle','wb') as write_file:\n",
    "    pickle.dump(X_test,write_file)\n",
    "with open('y_test.pickle','wb') as write_file:\n",
    "    pickle.dump(y_test,write_file)\n",
    "with open('X_train.pickle','wb') as write_file:\n",
    "    pickle.dump(X_train,write_file)\n",
    "with open('y_train.pickle','wb') as write_file:\n",
    "    pickle.dump(y_train,write_file)\n",
    "    \n",
    "with open('X_test_scaled.pickle','wb') as write_file:\n",
    "    pickle.dump(X_test_scaled,write_file)\n",
    "with open('X_train_scaled.pickle','wb') as write_file:\n",
    "    pickle.dump(X_train_scaled,write_file)"
   ]
  },
  {
   "cell_type": "code",
   "execution_count": 5,
   "metadata": {},
   "outputs": [],
   "source": [
    "#with open('X_test.pickle','rb') as read_file:\n",
    "#    X_test = pickle.load(read_file)\n",
    "#with open('y_test.pickle','rb') as read_file:\n",
    "#    y_test = pickle.load(read_file)\n",
    "with open('X_train.pickle','rb') as read_file:\n",
    "    X_train = pickle.load(read_file)\n",
    "with open('y_train.pickle','rb') as read_file:\n",
    "    y_train = pickle.load(read_file)\n",
    "#with open('X_test_scaled.pickle','rb') as read_file:\n",
    "#    X_test_scaled = pickle.load(read_file)\n",
    "with open('X_train_scaled.pickle','rb') as read_file:\n",
    "    X_train_scaled = pickle.load(read_file)"
   ]
  },
  {
   "cell_type": "markdown",
   "metadata": {},
   "source": [
    "# Choosing metric to optimize"
   ]
  },
  {
   "cell_type": "markdown",
   "metadata": {},
   "source": [
    "Because Terminated trials are the minority class, and are more interesting and useful to classify, I originally wanted to focus on Termianted Recall using an F-beta score with a beta of 2 or 3. However, this ultimately resulted in models where the optimal threshold was 0, and calling everything as 'Terminated'. \n",
    "\n",
    "I decided to focus on improving the F1 score of Terminated. The baseline of this score is 0.35\n"
   ]
  },
  {
   "cell_type": "code",
   "execution_count": 377,
   "metadata": {},
   "outputs": [
    {
     "name": "stdout",
     "output_type": "stream",
     "text": [
      "              precision    recall  f1-score   support\n",
      "\n",
      "   Completed       1.00      0.00      0.00     11452\n",
      "  Terminated       0.21      1.00      0.35      3048\n",
      "\n",
      "    accuracy                           0.21     14500\n",
      "   macro avg       0.61      0.50      0.17     14500\n",
      "weighted avg       0.83      0.21      0.07     14500\n",
      "\n"
     ]
    }
   ],
   "source": [
    "print(classification_report(y_train, ['Terminated']*len(y_train),zero_division=1))"
   ]
  },
  {
   "cell_type": "markdown",
   "metadata": {},
   "source": [
    "if all are voted 'Terminated' the recall of 'Terminated' is 0.21,\n",
    "The F1 score is 0.35"
   ]
  },
  {
   "cell_type": "markdown",
   "metadata": {},
   "source": [
    "# Oversampling"
   ]
  },
  {
   "cell_type": "markdown",
   "metadata": {},
   "source": [
    "Oversampling may help since there is a class imbalance, and the class of interest 'Terminated' is underrepresented. From playing around with the data predictions KNN I found that ADASYN made the F1 of the Terminated Class better than SMOTE or Random Oversampling, at least in the KNN model"
   ]
  },
  {
   "cell_type": "code",
   "execution_count": 13,
   "metadata": {},
   "outputs": [],
   "source": [
    "X_adasyn, y_adasyn = ADASYN(random_state=42).fit_sample(X_train_scaled,y_train)"
   ]
  },
  {
   "cell_type": "code",
   "execution_count": 35,
   "metadata": {},
   "outputs": [],
   "source": [
    "from collections import Counter"
   ]
  },
  {
   "cell_type": "code",
   "execution_count": 36,
   "metadata": {},
   "outputs": [
    {
     "data": {
      "text/plain": [
       "Counter({'Completed': 11452, 'Terminated': 11401})"
      ]
     },
     "execution_count": 36,
     "metadata": {},
     "output_type": "execute_result"
    }
   ],
   "source": [
    "Counter(y_adasyn)"
   ]
  },
  {
   "cell_type": "markdown",
   "metadata": {},
   "source": [
    "# kNN model Optimization"
   ]
  },
  {
   "cell_type": "code",
   "execution_count": 46,
   "metadata": {},
   "outputs": [],
   "source": [
    "param_grid = [{'n_neighbors': [3,4,5,6],\n",
    "               'weights': ['distance', 'uniform']}]\n",
    "\n",
    "search = GridSearchCV(KNeighborsClassifier(), param_grid, cv=3, n_jobs=-1, scoring='f1')"
   ]
  },
  {
   "cell_type": "code",
   "execution_count": 14,
   "metadata": {},
   "outputs": [],
   "source": [
    "#I determined that 'Terminated' is predicted as 1 and 'Completed' is predicted as 0\n",
    "y_train_adasyn_01 = []\n",
    "for i in y_adasyn:\n",
    "    if i=='Completed':\n",
    "        y_train_adasyn_01.append(0)\n",
    "    if i==\"Terminated\":\n",
    "        y_train_adasyn_01.append(1)"
   ]
  },
  {
   "cell_type": "code",
   "execution_count": 48,
   "metadata": {},
   "outputs": [
    {
     "data": {
      "text/plain": [
       "GridSearchCV(cv=3, estimator=KNeighborsClassifier(), n_jobs=-1,\n",
       "             param_grid=[{'n_neighbors': [3, 4, 5, 6],\n",
       "                          'weights': ['distance', 'uniform']}],\n",
       "             scoring='f1')"
      ]
     },
     "execution_count": 48,
     "metadata": {},
     "output_type": "execute_result"
    }
   ],
   "source": [
    "search.fit(X_adasyn, y_train_adasyn_01)"
   ]
  },
  {
   "cell_type": "code",
   "execution_count": 49,
   "metadata": {},
   "outputs": [
    {
     "data": {
      "text/plain": [
       "{'n_neighbors': 4, 'weights': 'distance'}"
      ]
     },
     "execution_count": 49,
     "metadata": {},
     "output_type": "execute_result"
    }
   ],
   "source": [
    "search.best_params_"
   ]
  },
  {
   "cell_type": "code",
   "execution_count": 35,
   "metadata": {},
   "outputs": [],
   "source": [
    "knn = KNeighborsClassifier(n_neighbors=4, weights='distance')"
   ]
  },
  {
   "cell_type": "code",
   "execution_count": 37,
   "metadata": {},
   "outputs": [],
   "source": [
    "skf = StratifiedKFold(n_splits=3)"
   ]
  },
  {
   "cell_type": "code",
   "execution_count": 38,
   "metadata": {},
   "outputs": [],
   "source": [
    "train_index, test_index = next(iter(skf.split(X_train_scaled, y_train)))"
   ]
  },
  {
   "cell_type": "code",
   "execution_count": 39,
   "metadata": {},
   "outputs": [],
   "source": [
    "X_train_cv1 = X_train_scaled[train_index]\n",
    "X_validate_cv1 = X_train_scaled[test_index]"
   ]
  },
  {
   "cell_type": "code",
   "execution_count": 40,
   "metadata": {},
   "outputs": [],
   "source": [
    "y_validate_cv1 = y_train.iloc[test_index]\n",
    "y_train_cv1 = y_train.iloc[train_index]"
   ]
  },
  {
   "cell_type": "code",
   "execution_count": 43,
   "metadata": {},
   "outputs": [],
   "source": [
    "X_adasyn_train, y_adasyn_train = ADASYN(random_state=42).fit_sample(X_train_cv1,y_train_cv1)"
   ]
  },
  {
   "cell_type": "code",
   "execution_count": 44,
   "metadata": {},
   "outputs": [
    {
     "data": {
      "text/plain": [
       "KNeighborsClassifier(n_neighbors=4, weights='distance')"
      ]
     },
     "execution_count": 44,
     "metadata": {},
     "output_type": "execute_result"
    }
   ],
   "source": [
    "knn.fit(X_adasyn_train,y_adasyn_train)"
   ]
  },
  {
   "cell_type": "code",
   "execution_count": 168,
   "metadata": {},
   "outputs": [],
   "source": [
    "preds = knn.predict(X_validate_cv1)"
   ]
  },
  {
   "cell_type": "code",
   "execution_count": 169,
   "metadata": {},
   "outputs": [],
   "source": [
    "confusion = confusion_matrix(y_validate_cv1, preds)"
   ]
  },
  {
   "cell_type": "code",
   "execution_count": 170,
   "metadata": {},
   "outputs": [
    {
     "data": {
      "image/png": "[encoded data removed]",
      "text/plain": [
       "<Figure size 432x288 with 2 Axes>"
      ]
     },
     "metadata": {
      "needs_background": "light"
     },
     "output_type": "display_data"
    }
   ],
   "source": [
    "sns.heatmap(confusion, annot=True,\n",
    "           xticklabels=['Completed','Terminated'],\n",
    "           yticklabels=['Completed','Terminated'],fmt='.0f')\n",
    "\n",
    "plt.xlabel('Predicted')\n",
    "plt.ylabel('Actual')\n",
    "plt.title('KNN confusion matrix');"
   ]
  },
  {
   "cell_type": "code",
   "execution_count": 171,
   "metadata": {},
   "outputs": [
    {
     "name": "stdout",
     "output_type": "stream",
     "text": [
      "              precision    recall  f1-score   support\n",
      "\n",
      "   Completed       0.86      0.45      0.60      3818\n",
      "  Terminated       0.26      0.73      0.39      1016\n",
      "\n",
      "    accuracy                           0.51      4834\n",
      "   macro avg       0.56      0.59      0.49      4834\n",
      "weighted avg       0.74      0.51      0.55      4834\n",
      "\n"
     ]
    }
   ],
   "source": [
    "print(classification_report(y_validate_cv1, preds))"
   ]
  },
  {
   "cell_type": "code",
   "execution_count": 173,
   "metadata": {},
   "outputs": [],
   "source": [
    "fpr, tpr, thresholds = roc_curve(y_validate_cv1, knn.predict_proba(X_validate_cv1)[:,1], pos_label=\"Terminated\")"
   ]
  },
  {
   "cell_type": "code",
   "execution_count": 174,
   "metadata": {},
   "outputs": [
    {
     "data": {
      "image/png": "[encoded data removed]",
      "text/plain": [
       "<Figure size 432x288 with 1 Axes>"
      ]
     },
     "metadata": {
      "needs_background": "light"
     },
     "output_type": "display_data"
    }
   ],
   "source": [
    "plt.plot(fpr, tpr,lw=2)\n",
    "plt.plot([0,1],[0,1],c='violet',ls='--')\n",
    "plt.xlim([-0.05,1.05])\n",
    "plt.ylim([-0.05,1.05])\n",
    "\n",
    "\n",
    "plt.xlabel('False positive rate')\n",
    "plt.ylabel('True positive rate')\n",
    "plt.title('ROC curve for Terminated Class');"
   ]
  },
  {
   "cell_type": "code",
   "execution_count": 175,
   "metadata": {},
   "outputs": [
    {
     "data": {
      "text/plain": [
       "0.4967556244707593"
      ]
     },
     "execution_count": 175,
     "metadata": {},
     "output_type": "execute_result"
    }
   ],
   "source": [
    "#The best threshold according to the ROC curve\n",
    "thresholds[np.argmax(tpr - fpr)]"
   ]
  },
  {
   "cell_type": "code",
   "execution_count": 47,
   "metadata": {},
   "outputs": [],
   "source": [
    "y_validate_01 = []\n",
    "for i in y_validate_cv1:\n",
    "    if i=='Completed':\n",
    "        y_validate_01.append(0)\n",
    "    if i==\"Terminated\":\n",
    "        y_validate_01.append(1)"
   ]
  },
  {
   "cell_type": "code",
   "execution_count": 50,
   "metadata": {},
   "outputs": [],
   "source": [
    "F1_list = []\n",
    "# Will take some time\n",
    "for i in np.arange(0,1,0.2):\n",
    "    preds = knn.predict_proba(X_validate_cv1)[:,1] > i\n",
    "    F1 = f1_score(y_validate_01,preds)\n",
    "    F1_list.append(F1)"
   ]
  },
  {
   "cell_type": "code",
   "execution_count": 53,
   "metadata": {},
   "outputs": [
    {
     "data": {
      "text/plain": [
       "Text(0, 0.5, 'F1')"
      ]
     },
     "execution_count": 53,
     "metadata": {},
     "output_type": "execute_result"
    },
    {
     "data": {
      "image/png": "[encoded data removed]",
      "text/plain": [
       "<Figure size 720x432 with 1 Axes>"
      ]
     },
     "metadata": {
      "needs_background": "light"
     },
     "output_type": "display_data"
    }
   ],
   "source": [
    "plt.figure(figsize=(10,6))\n",
    "plt.plot(np.arange(0,1,0.2), F1_list, color=\"blue\", linestyle=\"dashed\", marker=\"o\", markersize=10)\n",
    "plt.title(\"F1 vs. Threshold\")\n",
    "plt.xlabel(\"kNN Overall Threshold\")\n",
    "plt.ylabel(\"F1\")"
   ]
  },
  {
   "cell_type": "markdown",
   "metadata": {},
   "source": [
    "### Compared to a similar non-oversampled KNN model"
   ]
  },
  {
   "cell_type": "code",
   "execution_count": 124,
   "metadata": {},
   "outputs": [
    {
     "data": {
      "text/plain": [
       "KNeighborsClassifier(n_neighbors=4, weights='distance')"
      ]
     },
     "execution_count": 124,
     "metadata": {},
     "output_type": "execute_result"
    }
   ],
   "source": [
    "knn.fit(X_train_cv1,y_train_cv1)"
   ]
  },
  {
   "cell_type": "code",
   "execution_count": 125,
   "metadata": {},
   "outputs": [],
   "source": [
    "preds = knn.predict(X_validate_cv1)"
   ]
  },
  {
   "cell_type": "code",
   "execution_count": 126,
   "metadata": {},
   "outputs": [
    {
     "data": {
      "image/png": "[encoded data removed]",
      "text/plain": [
       "<Figure size 432x288 with 2 Axes>"
      ]
     },
     "metadata": {
      "needs_background": "light"
     },
     "output_type": "display_data"
    }
   ],
   "source": [
    "confusion = confusion_matrix(y_validate_cv1, preds)\n",
    "\n",
    "sns.heatmap(confusion, annot=True,\n",
    "           xticklabels=['Completed','Terminated'],\n",
    "           yticklabels=['Completed','Terminated'],fmt='.0f')\n",
    "\n",
    "plt.xlabel('Predicted')\n",
    "plt.ylabel('Actual')\n",
    "plt.title('KNN confusion matrix - no oversample');"
   ]
  },
  {
   "cell_type": "markdown",
   "metadata": {},
   "source": [
    "Using oversampling was really important for kNN"
   ]
  },
  {
   "cell_type": "code",
   "execution_count": 194,
   "metadata": {},
   "outputs": [
    {
     "data": {
      "text/plain": [
       "KNeighborsClassifier(n_neighbors=4, weights='distance')"
      ]
     },
     "execution_count": 194,
     "metadata": {},
     "output_type": "execute_result"
    }
   ],
   "source": [
    "knn = KNeighborsClassifier(n_neighbors=4, weights='distance')\n",
    "\n",
    "knn.fit(X_adasyn,y_adasyn)"
   ]
  },
  {
   "cell_type": "code",
   "execution_count": 195,
   "metadata": {},
   "outputs": [],
   "source": [
    "with open('knn.pickle', 'wb') as write_file:\n",
    "    pickle.dump(knn, write_file)"
   ]
  },
  {
   "cell_type": "markdown",
   "metadata": {},
   "source": [
    "# Logistic Regression Optimization"
   ]
  },
  {
   "cell_type": "markdown",
   "metadata": {},
   "source": [
    "Using class_weight=balanced for implicit oversampling here"
   ]
  },
  {
   "cell_type": "code",
   "execution_count": 15,
   "metadata": {},
   "outputs": [],
   "source": [
    "#I determined that 'Terminated' is predicted as 1 and 'Completed' is predicted as 0\n",
    "y_train_01 = []\n",
    "for i in y_train:\n",
    "    if i=='Completed':\n",
    "        y_train_01.append(0)\n",
    "    if i==\"Terminated\":\n",
    "        y_train_01.append(1)"
   ]
  },
  {
   "cell_type": "code",
   "execution_count": 55,
   "metadata": {},
   "outputs": [
    {
     "data": {
      "text/plain": [
       "GridSearchCV(cv=3,\n",
       "             estimator=LogisticRegression(class_weight='balanced', max_iter=500,\n",
       "                                          penalty='elasticnet', solver='saga'),\n",
       "             n_jobs=-1,\n",
       "             param_grid=[{'C': [0.1, 0.5, 1], 'l1_ratio': [0, 0.5, 1]}],\n",
       "             scoring='f1')"
      ]
     },
     "execution_count": 55,
     "metadata": {},
     "output_type": "execute_result"
    }
   ],
   "source": [
    "param_grid = [{'C': [0.1, 0.5, 1],\n",
    "               'l1_ratio': [0, 0.5, 1]}]\n",
    "\n",
    "search = GridSearchCV(LogisticRegression(class_weight='balanced', solver='saga', penalty='elasticnet', max_iter=500), \\\n",
    "                      param_grid, cv=3, n_jobs=-1, scoring='f1')\n",
    "\n",
    "search.fit(X_train_scaled, y_train_01)"
   ]
  },
  {
   "cell_type": "code",
   "execution_count": 56,
   "metadata": {},
   "outputs": [
    {
     "data": {
      "text/plain": [
       "{'C': 0.1, 'l1_ratio': 1}"
      ]
     },
     "execution_count": 56,
     "metadata": {},
     "output_type": "execute_result"
    }
   ],
   "source": [
    "search.best_params_"
   ]
  },
  {
   "cell_type": "markdown",
   "metadata": {},
   "source": [
    "Train/Validate split 67%:33%"
   ]
  },
  {
   "cell_type": "code",
   "execution_count": 8,
   "metadata": {},
   "outputs": [],
   "source": [
    "skf = StratifiedKFold(n_splits=3)"
   ]
  },
  {
   "cell_type": "code",
   "execution_count": 9,
   "metadata": {},
   "outputs": [],
   "source": [
    "train_index, test_index = next(iter(skf.split(X_train_scaled, y_train)))"
   ]
  },
  {
   "cell_type": "code",
   "execution_count": 10,
   "metadata": {},
   "outputs": [],
   "source": [
    "X_train_cv1 = X_train_scaled[train_index]\n",
    "X_validate_cv1 = X_train_scaled[test_index]"
   ]
  },
  {
   "cell_type": "code",
   "execution_count": 11,
   "metadata": {},
   "outputs": [],
   "source": [
    "y_validate_cv1 = y_train.iloc[test_index]\n",
    "y_train_cv1 = y_train.iloc[train_index]"
   ]
  },
  {
   "cell_type": "code",
   "execution_count": 57,
   "metadata": {},
   "outputs": [],
   "source": [
    "lr = LogisticRegression(class_weight='balanced', solver='saga', C=0.1, l1_ratio=1, penalty='elasticnet',max_iter=500)"
   ]
  },
  {
   "cell_type": "code",
   "execution_count": 58,
   "metadata": {},
   "outputs": [],
   "source": [
    "lr = lr.fit(X_train_cv1, y_train_cv1)"
   ]
  },
  {
   "cell_type": "code",
   "execution_count": 137,
   "metadata": {},
   "outputs": [],
   "source": [
    "preds = lr.predict(X_validate_cv1)"
   ]
  },
  {
   "cell_type": "code",
   "execution_count": 138,
   "metadata": {},
   "outputs": [
    {
     "data": {
      "image/png": "[encoded data removed]",
      "text/plain": [
       "<Figure size 432x288 with 2 Axes>"
      ]
     },
     "metadata": {
      "needs_background": "light"
     },
     "output_type": "display_data"
    }
   ],
   "source": [
    "confusion = confusion_matrix(y_validate_cv1, preds)\n",
    "\n",
    "sns.heatmap(confusion, annot=True,\n",
    "           xticklabels=['Completed','Terminated'],\n",
    "           yticklabels=['Completed','Terminated'],fmt='.0f')\n",
    "\n",
    "plt.xlabel('Predicted')\n",
    "plt.ylabel('Actual')\n",
    "plt.title('LR confusion matrix');"
   ]
  },
  {
   "cell_type": "code",
   "execution_count": 139,
   "metadata": {},
   "outputs": [
    {
     "name": "stdout",
     "output_type": "stream",
     "text": [
      "              precision    recall  f1-score   support\n",
      "\n",
      "   Completed       0.85      0.62      0.72      3818\n",
      "  Terminated       0.30      0.60      0.40      1016\n",
      "\n",
      "    accuracy                           0.62      4834\n",
      "   macro avg       0.58      0.61      0.56      4834\n",
      "weighted avg       0.74      0.62      0.65      4834\n",
      "\n"
     ]
    }
   ],
   "source": [
    "print(classification_report(y_validate_cv1, preds))"
   ]
  },
  {
   "cell_type": "code",
   "execution_count": 229,
   "metadata": {},
   "outputs": [],
   "source": [
    "fpr, tpr, thresholds = roc_curve(y_validate_cv1, lr.predict_proba(X_validate_cv1)[:,1], pos_label=\"Terminated\")"
   ]
  },
  {
   "cell_type": "code",
   "execution_count": 141,
   "metadata": {},
   "outputs": [
    {
     "data": {
      "image/png": "[encoded data removed]",
      "text/plain": [
       "<Figure size 432x288 with 1 Axes>"
      ]
     },
     "metadata": {
      "needs_background": "light"
     },
     "output_type": "display_data"
    }
   ],
   "source": [
    "plt.plot(fpr, tpr,lw=2)\n",
    "plt.plot([0,1],[0,1],c='violet',ls='--')\n",
    "plt.xlim([-0.05,1.05])\n",
    "plt.ylim([-0.05,1.05])\n",
    "\n",
    "\n",
    "plt.xlabel('False positive rate')\n",
    "plt.ylabel('True positive rate')\n",
    "plt.title('ROC curve for Terminated Class');"
   ]
  },
  {
   "cell_type": "code",
   "execution_count": 142,
   "metadata": {},
   "outputs": [
    {
     "data": {
      "text/plain": [
       "0.47569952487489936"
      ]
     },
     "execution_count": 142,
     "metadata": {},
     "output_type": "execute_result"
    }
   ],
   "source": [
    "#The best threshold according to the ROC curve\n",
    "thresholds[np.argmax(tpr - fpr)]"
   ]
  },
  {
   "cell_type": "code",
   "execution_count": 29,
   "metadata": {},
   "outputs": [],
   "source": [
    "y_validate_01 = []\n",
    "for i in y_validate_cv1:\n",
    "    if i=='Completed':\n",
    "        y_validate_01.append(0)\n",
    "    if i==\"Terminated\":\n",
    "        y_validate_01.append(1)"
   ]
  },
  {
   "cell_type": "code",
   "execution_count": 145,
   "metadata": {},
   "outputs": [
    {
     "name": "stdout",
     "output_type": "stream",
     "text": [
      "              precision    recall  f1-score   support\n",
      "\n",
      "           0       0.86      0.57      0.69      3818\n",
      "           1       0.29      0.66      0.40      1016\n",
      "\n",
      "    accuracy                           0.59      4834\n",
      "   macro avg       0.58      0.62      0.55      4834\n",
      "weighted avg       0.74      0.59      0.63      4834\n",
      "\n"
     ]
    }
   ],
   "source": [
    "print(classification_report(y_validate_01,lr.predict_proba(X_validate_cv1)[:,1] > 0.4757))"
   ]
  },
  {
   "cell_type": "code",
   "execution_count": 60,
   "metadata": {},
   "outputs": [],
   "source": [
    "F1_list = []\n",
    "for i in np.arange(0,1,0.1):\n",
    "    preds = lr.predict_proba(X_validate_cv1)[:,1] > i\n",
    "    F1 = f1_score(y_validate_01,preds)\n",
    "    F1_list.append(F1)"
   ]
  },
  {
   "cell_type": "code",
   "execution_count": 61,
   "metadata": {},
   "outputs": [
    {
     "data": {
      "text/plain": [
       "Text(0, 0.5, 'F1')"
      ]
     },
     "execution_count": 61,
     "metadata": {},
     "output_type": "execute_result"
    },
    {
     "data": {
      "image/png": "[encoded data removed]",
      "text/plain": [
       "<Figure size 720x432 with 1 Axes>"
      ]
     },
     "metadata": {
      "needs_background": "light"
     },
     "output_type": "display_data"
    }
   ],
   "source": [
    "plt.figure(figsize=(10,6))\n",
    "plt.plot(np.arange(0,1,0.1), F1_list, color=\"blue\", linestyle=\"dashed\", marker=\"o\", markersize=10)\n",
    "plt.title(\"F1 vs. Threshold\")\n",
    "plt.xlabel(\"LR Overall Threshold\")\n",
    "plt.ylabel(\"F1\")"
   ]
  },
  {
   "cell_type": "code",
   "execution_count": 197,
   "metadata": {},
   "outputs": [],
   "source": [
    "lr = LogisticRegression(class_weight='balanced', solver='saga', \\\n",
    "                        C=0.1, l1_ratio=1, penalty='elasticnet',max_iter=500)\n",
    "\n",
    "lr = lr.fit(X_train_scaled, y_train)"
   ]
  },
  {
   "cell_type": "code",
   "execution_count": 198,
   "metadata": {},
   "outputs": [],
   "source": [
    "coefs = pd.DataFrame({'column':column_names,'coef':lr.coef_.flatten()}).sort_values('coef')"
   ]
  },
  {
   "cell_type": "code",
   "execution_count": 199,
   "metadata": {},
   "outputs": [
    {
     "data": {
      "text/html": [
       "<div>\n",
       "<style scoped>\n",
       "    .dataframe tbody tr th:only-of-type {\n",
       "        vertical-align: middle;\n",
       "    }\n",
       "\n",
       "    .dataframe tbody tr th {\n",
       "        vertical-align: top;\n",
       "    }\n",
       "\n",
       "    .dataframe thead th {\n",
       "        text-align: right;\n",
       "    }\n",
       "</style>\n",
       "<table border=\"1\" class=\"dataframe\">\n",
       "  <thead>\n",
       "    <tr style=\"text-align: right;\">\n",
       "      <th></th>\n",
       "      <th>column</th>\n",
       "      <th>coef</th>\n",
       "    </tr>\n",
       "  </thead>\n",
       "  <tbody>\n",
       "    <tr>\n",
       "      <th>151</th>\n",
       "      <td>sponsor_Alliance for Clinical Trials in Oncology</td>\n",
       "      <td>-0.152527</td>\n",
       "    </tr>\n",
       "    <tr>\n",
       "      <th>147</th>\n",
       "      <td>sponsor_Memorial Sloan Kettering Cancer Center</td>\n",
       "      <td>-0.148971</td>\n",
       "    </tr>\n",
       "    <tr>\n",
       "      <th>145</th>\n",
       "      <td>sponsor_National Cancer Institute (NCI)</td>\n",
       "      <td>-0.130703</td>\n",
       "    </tr>\n",
       "    <tr>\n",
       "      <th>169</th>\n",
       "      <td>China</td>\n",
       "      <td>-0.128382</td>\n",
       "    </tr>\n",
       "    <tr>\n",
       "      <th>149</th>\n",
       "      <td>sponsor_Eli Lilly and Company</td>\n",
       "      <td>-0.113230</td>\n",
       "    </tr>\n",
       "    <tr>\n",
       "      <th>...</th>\n",
       "      <td>...</td>\n",
       "      <td>...</td>\n",
       "    </tr>\n",
       "    <tr>\n",
       "      <th>154</th>\n",
       "      <td>sponsor_European Organisation for Research and...</td>\n",
       "      <td>0.125872</td>\n",
       "    </tr>\n",
       "    <tr>\n",
       "      <th>34</th>\n",
       "      <td>OversightHasDMC_Yes_basic</td>\n",
       "      <td>0.165697</td>\n",
       "    </tr>\n",
       "    <tr>\n",
       "      <th>99</th>\n",
       "      <td>Parallel Assignment_design</td>\n",
       "      <td>0.306869</td>\n",
       "    </tr>\n",
       "    <tr>\n",
       "      <th>101</th>\n",
       "      <td>Single Group Assignment_design</td>\n",
       "      <td>0.318542</td>\n",
       "    </tr>\n",
       "    <tr>\n",
       "      <th>168</th>\n",
       "      <td>United States</td>\n",
       "      <td>0.387846</td>\n",
       "    </tr>\n",
       "  </tbody>\n",
       "</table>\n",
       "<p>400 rows × 2 columns</p>\n",
       "</div>"
      ],
      "text/plain": [
       "                                                column      coef\n",
       "151   sponsor_Alliance for Clinical Trials in Oncology -0.152527\n",
       "147     sponsor_Memorial Sloan Kettering Cancer Center -0.148971\n",
       "145            sponsor_National Cancer Institute (NCI) -0.130703\n",
       "169                                              China -0.128382\n",
       "149                      sponsor_Eli Lilly and Company -0.113230\n",
       "..                                                 ...       ...\n",
       "154  sponsor_European Organisation for Research and...  0.125872\n",
       "34                           OversightHasDMC_Yes_basic  0.165697\n",
       "99                          Parallel Assignment_design  0.306869\n",
       "101                     Single Group Assignment_design  0.318542\n",
       "168                                      United States  0.387846\n",
       "\n",
       "[400 rows x 2 columns]"
      ]
     },
     "execution_count": 199,
     "metadata": {},
     "output_type": "execute_result"
    }
   ],
   "source": [
    "coefs"
   ]
  },
  {
   "cell_type": "code",
   "execution_count": 200,
   "metadata": {},
   "outputs": [
    {
     "data": {
      "text/html": [
       "<div>\n",
       "<style scoped>\n",
       "    .dataframe tbody tr th:only-of-type {\n",
       "        vertical-align: middle;\n",
       "    }\n",
       "\n",
       "    .dataframe tbody tr th {\n",
       "        vertical-align: top;\n",
       "    }\n",
       "\n",
       "    .dataframe thead th {\n",
       "        text-align: right;\n",
       "    }\n",
       "</style>\n",
       "<table border=\"1\" class=\"dataframe\">\n",
       "  <thead>\n",
       "    <tr style=\"text-align: right;\">\n",
       "      <th></th>\n",
       "      <th>column</th>\n",
       "      <th>coef</th>\n",
       "    </tr>\n",
       "  </thead>\n",
       "  <tbody>\n",
       "    <tr>\n",
       "      <th>151</th>\n",
       "      <td>sponsor_Alliance for Clinical Trials in Oncology</td>\n",
       "      <td>-0.152527</td>\n",
       "    </tr>\n",
       "    <tr>\n",
       "      <th>147</th>\n",
       "      <td>sponsor_Memorial Sloan Kettering Cancer Center</td>\n",
       "      <td>-0.148971</td>\n",
       "    </tr>\n",
       "    <tr>\n",
       "      <th>145</th>\n",
       "      <td>sponsor_National Cancer Institute (NCI)</td>\n",
       "      <td>-0.130703</td>\n",
       "    </tr>\n",
       "    <tr>\n",
       "      <th>169</th>\n",
       "      <td>China</td>\n",
       "      <td>-0.128382</td>\n",
       "    </tr>\n",
       "    <tr>\n",
       "      <th>149</th>\n",
       "      <td>sponsor_Eli Lilly and Company</td>\n",
       "      <td>-0.113230</td>\n",
       "    </tr>\n",
       "    <tr>\n",
       "      <th>218</th>\n",
       "      <td>Toronto</td>\n",
       "      <td>-0.095859</td>\n",
       "    </tr>\n",
       "    <tr>\n",
       "      <th>220</th>\n",
       "      <td>Wichita</td>\n",
       "      <td>-0.095820</td>\n",
       "    </tr>\n",
       "    <tr>\n",
       "      <th>58</th>\n",
       "      <td>bevacizumab_design</td>\n",
       "      <td>-0.092326</td>\n",
       "    </tr>\n",
       "    <tr>\n",
       "      <th>277</th>\n",
       "      <td>Sioux Falls</td>\n",
       "      <td>-0.088797</td>\n",
       "    </tr>\n",
       "    <tr>\n",
       "      <th>162</th>\n",
       "      <td>official_Dana-Farber Cancer Institute</td>\n",
       "      <td>-0.087624</td>\n",
       "    </tr>\n",
       "    <tr>\n",
       "      <th>196</th>\n",
       "      <td>Turkey</td>\n",
       "      <td>-0.078064</td>\n",
       "    </tr>\n",
       "    <tr>\n",
       "      <th>264</th>\n",
       "      <td>Vancouver</td>\n",
       "      <td>-0.077239</td>\n",
       "    </tr>\n",
       "    <tr>\n",
       "      <th>267</th>\n",
       "      <td>Ottawa</td>\n",
       "      <td>-0.075681</td>\n",
       "    </tr>\n",
       "    <tr>\n",
       "      <th>153</th>\n",
       "      <td>sponsor_Amgen</td>\n",
       "      <td>-0.073047</td>\n",
       "    </tr>\n",
       "    <tr>\n",
       "      <th>201</th>\n",
       "      <td>New York</td>\n",
       "      <td>-0.070013</td>\n",
       "    </tr>\n",
       "    <tr>\n",
       "      <th>202</th>\n",
       "      <td>Boston</td>\n",
       "      <td>-0.063731</td>\n",
       "    </tr>\n",
       "    <tr>\n",
       "      <th>216</th>\n",
       "      <td>Rochester</td>\n",
       "      <td>-0.063086</td>\n",
       "    </tr>\n",
       "    <tr>\n",
       "      <th>157</th>\n",
       "      <td>official_Memorial Sloan Kettering Cancer Center</td>\n",
       "      <td>-0.062894</td>\n",
       "    </tr>\n",
       "    <tr>\n",
       "      <th>167</th>\n",
       "      <td>num_countries</td>\n",
       "      <td>-0.057823</td>\n",
       "    </tr>\n",
       "    <tr>\n",
       "      <th>161</th>\n",
       "      <td>official_Eli Lilly and Company</td>\n",
       "      <td>-0.057318</td>\n",
       "    </tr>\n",
       "  </tbody>\n",
       "</table>\n",
       "</div>"
      ],
      "text/plain": [
       "                                               column      coef\n",
       "151  sponsor_Alliance for Clinical Trials in Oncology -0.152527\n",
       "147    sponsor_Memorial Sloan Kettering Cancer Center -0.148971\n",
       "145           sponsor_National Cancer Institute (NCI) -0.130703\n",
       "169                                             China -0.128382\n",
       "149                     sponsor_Eli Lilly and Company -0.113230\n",
       "218                                           Toronto -0.095859\n",
       "220                                           Wichita -0.095820\n",
       "58                                 bevacizumab_design -0.092326\n",
       "277                                       Sioux Falls -0.088797\n",
       "162             official_Dana-Farber Cancer Institute -0.087624\n",
       "196                                            Turkey -0.078064\n",
       "264                                         Vancouver -0.077239\n",
       "267                                            Ottawa -0.075681\n",
       "153                                     sponsor_Amgen -0.073047\n",
       "201                                          New York -0.070013\n",
       "202                                            Boston -0.063731\n",
       "216                                         Rochester -0.063086\n",
       "157   official_Memorial Sloan Kettering Cancer Center -0.062894\n",
       "167                                     num_countries -0.057823\n",
       "161                    official_Eli Lilly and Company -0.057318"
      ]
     },
     "execution_count": 200,
     "metadata": {},
     "output_type": "execute_result"
    }
   ],
   "source": [
    "coefs.head(20)"
   ]
  },
  {
   "cell_type": "code",
   "execution_count": 203,
   "metadata": {},
   "outputs": [
    {
     "data": {
      "text/html": [
       "<div>\n",
       "<style scoped>\n",
       "    .dataframe tbody tr th:only-of-type {\n",
       "        vertical-align: middle;\n",
       "    }\n",
       "\n",
       "    .dataframe tbody tr th {\n",
       "        vertical-align: top;\n",
       "    }\n",
       "\n",
       "    .dataframe thead th {\n",
       "        text-align: right;\n",
       "    }\n",
       "</style>\n",
       "<table border=\"1\" class=\"dataframe\">\n",
       "  <thead>\n",
       "    <tr style=\"text-align: right;\">\n",
       "      <th></th>\n",
       "      <th>column</th>\n",
       "      <th>coef</th>\n",
       "    </tr>\n",
       "  </thead>\n",
       "  <tbody>\n",
       "    <tr>\n",
       "      <th>10</th>\n",
       "      <td>leukemia_basic</td>\n",
       "      <td>0.075324</td>\n",
       "    </tr>\n",
       "    <tr>\n",
       "      <th>172</th>\n",
       "      <td>Canada</td>\n",
       "      <td>0.076082</td>\n",
       "    </tr>\n",
       "    <tr>\n",
       "      <th>255</th>\n",
       "      <td>Charleston</td>\n",
       "      <td>0.076086</td>\n",
       "    </tr>\n",
       "    <tr>\n",
       "      <th>56</th>\n",
       "      <td>surgery_design</td>\n",
       "      <td>0.076686</td>\n",
       "    </tr>\n",
       "    <tr>\n",
       "      <th>130</th>\n",
       "      <td>metasta_elig</td>\n",
       "      <td>0.077749</td>\n",
       "    </tr>\n",
       "    <tr>\n",
       "      <th>92</th>\n",
       "      <td>Diagnostic_design</td>\n",
       "      <td>0.078150</td>\n",
       "    </tr>\n",
       "    <tr>\n",
       "      <th>28</th>\n",
       "      <td>IsFDARegulatedDrug_Yes_basic</td>\n",
       "      <td>0.080065</td>\n",
       "    </tr>\n",
       "    <tr>\n",
       "      <th>263</th>\n",
       "      <td>Athens</td>\n",
       "      <td>0.080930</td>\n",
       "    </tr>\n",
       "    <tr>\n",
       "      <th>166</th>\n",
       "      <td>location_count</td>\n",
       "      <td>0.081129</td>\n",
       "    </tr>\n",
       "    <tr>\n",
       "      <th>234</th>\n",
       "      <td>Minneapolis</td>\n",
       "      <td>0.081935</td>\n",
       "    </tr>\n",
       "    <tr>\n",
       "      <th>103</th>\n",
       "      <td>Randomized_design</td>\n",
       "      <td>0.090077</td>\n",
       "    </tr>\n",
       "    <tr>\n",
       "      <th>188</th>\n",
       "      <td>Taiwan</td>\n",
       "      <td>0.104104</td>\n",
       "    </tr>\n",
       "    <tr>\n",
       "      <th>115</th>\n",
       "      <td>number_excl_crit_elig</td>\n",
       "      <td>0.105525</td>\n",
       "    </tr>\n",
       "    <tr>\n",
       "      <th>89</th>\n",
       "      <td>Treatment_design</td>\n",
       "      <td>0.111546</td>\n",
       "    </tr>\n",
       "    <tr>\n",
       "      <th>33</th>\n",
       "      <td>OversightHasDMC_No_basic</td>\n",
       "      <td>0.112537</td>\n",
       "    </tr>\n",
       "    <tr>\n",
       "      <th>154</th>\n",
       "      <td>sponsor_European Organisation for Research and...</td>\n",
       "      <td>0.125872</td>\n",
       "    </tr>\n",
       "    <tr>\n",
       "      <th>34</th>\n",
       "      <td>OversightHasDMC_Yes_basic</td>\n",
       "      <td>0.165697</td>\n",
       "    </tr>\n",
       "    <tr>\n",
       "      <th>99</th>\n",
       "      <td>Parallel Assignment_design</td>\n",
       "      <td>0.306869</td>\n",
       "    </tr>\n",
       "    <tr>\n",
       "      <th>101</th>\n",
       "      <td>Single Group Assignment_design</td>\n",
       "      <td>0.318542</td>\n",
       "    </tr>\n",
       "    <tr>\n",
       "      <th>168</th>\n",
       "      <td>United States</td>\n",
       "      <td>0.387846</td>\n",
       "    </tr>\n",
       "  </tbody>\n",
       "</table>\n",
       "</div>"
      ],
      "text/plain": [
       "                                                column      coef\n",
       "10                                      leukemia_basic  0.075324\n",
       "172                                             Canada  0.076082\n",
       "255                                         Charleston  0.076086\n",
       "56                                      surgery_design  0.076686\n",
       "130                                       metasta_elig  0.077749\n",
       "92                                   Diagnostic_design  0.078150\n",
       "28                        IsFDARegulatedDrug_Yes_basic  0.080065\n",
       "263                                             Athens  0.080930\n",
       "166                                     location_count  0.081129\n",
       "234                                        Minneapolis  0.081935\n",
       "103                                  Randomized_design  0.090077\n",
       "188                                             Taiwan  0.104104\n",
       "115                              number_excl_crit_elig  0.105525\n",
       "89                                    Treatment_design  0.111546\n",
       "33                            OversightHasDMC_No_basic  0.112537\n",
       "154  sponsor_European Organisation for Research and...  0.125872\n",
       "34                           OversightHasDMC_Yes_basic  0.165697\n",
       "99                          Parallel Assignment_design  0.306869\n",
       "101                     Single Group Assignment_design  0.318542\n",
       "168                                      United States  0.387846"
      ]
     },
     "execution_count": 203,
     "metadata": {},
     "output_type": "execute_result"
    }
   ],
   "source": [
    "coefs.tail(20)"
   ]
  },
  {
   "cell_type": "code",
   "execution_count": 201,
   "metadata": {},
   "outputs": [],
   "source": [
    "with open('logistic_coefs.pickle', 'wb') as write_file:\n",
    "    pickle.dump(coefs, write_file)"
   ]
  },
  {
   "cell_type": "code",
   "execution_count": 202,
   "metadata": {},
   "outputs": [],
   "source": [
    "with open('logistic_regression.pickle', 'wb') as write_file:\n",
    "    pickle.dump(lr, write_file)"
   ]
  },
  {
   "cell_type": "markdown",
   "metadata": {},
   "source": [
    "# SVM optimization"
   ]
  },
  {
   "cell_type": "code",
   "execution_count": 18,
   "metadata": {},
   "outputs": [
    {
     "data": {
      "text/plain": [
       "GridSearchCV(cv=2,\n",
       "             estimator=SVC(C=0.1, class_weight='balanced', degree=2,\n",
       "                           probability=True),\n",
       "             n_jobs=-1, param_grid=[{'kernel': ['linear', 'poly', 'rbf']}],\n",
       "             scoring='f1')"
      ]
     },
     "execution_count": 18,
     "metadata": {},
     "output_type": "execute_result"
    }
   ],
   "source": [
    "param_grid = [{'kernel': ['linear','poly','rbf']}]\n",
    "\n",
    "search = GridSearchCV(SVC(class_weight='balanced', probability=True, degree=2, C=0.1), \\\n",
    "                      param_grid, cv=2, n_jobs=-1, scoring='f1')\n",
    "                      \n",
    "search.fit(X_train_scaled, y_train_01)"
   ]
  },
  {
   "cell_type": "code",
   "execution_count": 19,
   "metadata": {},
   "outputs": [
    {
     "data": {
      "text/plain": [
       "{'kernel': 'rbf'}"
      ]
     },
     "execution_count": 19,
     "metadata": {},
     "output_type": "execute_result"
    }
   ],
   "source": [
    "search.best_params_"
   ]
  },
  {
   "cell_type": "code",
   "execution_count": 20,
   "metadata": {},
   "outputs": [],
   "source": [
    "svc = SVC(class_weight='balanced', probability=True, C=0.1, \\\n",
    "          kernel = 'rbf' )"
   ]
  },
  {
   "cell_type": "code",
   "execution_count": 21,
   "metadata": {},
   "outputs": [],
   "source": [
    "svc = svc.fit(X_train_cv1, y_train_cv1)"
   ]
  },
  {
   "cell_type": "code",
   "execution_count": 22,
   "metadata": {},
   "outputs": [],
   "source": [
    "preds = svc.predict(X_validate_cv1)"
   ]
  },
  {
   "cell_type": "code",
   "execution_count": 23,
   "metadata": {},
   "outputs": [
    {
     "data": {
      "image/png": "[encoded data removed]",
      "text/plain": [
       "<Figure size 432x288 with 2 Axes>"
      ]
     },
     "metadata": {
      "needs_background": "light"
     },
     "output_type": "display_data"
    }
   ],
   "source": [
    "confusion = confusion_matrix(y_validate_cv1, preds)\n",
    "\n",
    "sns.heatmap(confusion, annot=True,\n",
    "           xticklabels=['Completed','Terminated'],\n",
    "           yticklabels=['Completed','Terminated'],fmt='.0f')\n",
    "\n",
    "plt.xlabel('Predicted')\n",
    "plt.ylabel('Actual')\n",
    "plt.title('SVC confusion matrix');"
   ]
  },
  {
   "cell_type": "code",
   "execution_count": 24,
   "metadata": {},
   "outputs": [
    {
     "name": "stdout",
     "output_type": "stream",
     "text": [
      "              precision    recall  f1-score   support\n",
      "\n",
      "   Completed       0.85      0.67      0.75      3818\n",
      "  Terminated       0.31      0.55      0.39      1016\n",
      "\n",
      "    accuracy                           0.64      4834\n",
      "   macro avg       0.58      0.61      0.57      4834\n",
      "weighted avg       0.73      0.64      0.67      4834\n",
      "\n"
     ]
    }
   ],
   "source": [
    "print(classification_report(y_validate_cv1, preds))"
   ]
  },
  {
   "cell_type": "code",
   "execution_count": 25,
   "metadata": {},
   "outputs": [],
   "source": [
    "fpr, tpr, thresholds = roc_curve(y_validate_cv1, svc.predict_proba(X_validate_cv1)[:,1], pos_label=\"Terminated\")"
   ]
  },
  {
   "cell_type": "code",
   "execution_count": 26,
   "metadata": {},
   "outputs": [
    {
     "data": {
      "image/png": "[encoded data removed]",
      "text/plain": [
       "<Figure size 432x288 with 1 Axes>"
      ]
     },
     "metadata": {
      "needs_background": "light"
     },
     "output_type": "display_data"
    }
   ],
   "source": [
    "plt.plot(fpr, tpr,lw=2)\n",
    "plt.plot([0,1],[0,1],c='violet',ls='--')\n",
    "plt.xlim([-0.05,1.05])\n",
    "plt.ylim([-0.05,1.05])\n",
    "\n",
    "\n",
    "plt.xlabel('False positive rate')\n",
    "plt.ylabel('True positive rate')\n",
    "plt.title('ROC curve for Terminated Class');"
   ]
  },
  {
   "cell_type": "code",
   "execution_count": 27,
   "metadata": {},
   "outputs": [
    {
     "data": {
      "text/plain": [
       "0.23969734354764274"
      ]
     },
     "execution_count": 27,
     "metadata": {},
     "output_type": "execute_result"
    }
   ],
   "source": [
    "#The best threshold according to the ROC curve\n",
    "thresholds[np.argmax(tpr - fpr)]"
   ]
  },
  {
   "cell_type": "code",
   "execution_count": 30,
   "metadata": {},
   "outputs": [],
   "source": [
    "F1_list = []\n",
    "for i in np.arange(0,1,0.2):\n",
    "    preds = svc.predict_proba(X_validate_cv1)[:,1] > i\n",
    "    F1 = f1_score(y_validate_01,preds)\n",
    "    F1_list.append(F1)"
   ]
  },
  {
   "cell_type": "code",
   "execution_count": 61,
   "metadata": {},
   "outputs": [
    {
     "data": {
      "text/plain": [
       "Text(0, 0.5, 'F1')"
      ]
     },
     "execution_count": 61,
     "metadata": {},
     "output_type": "execute_result"
    },
    {
     "data": {
      "image/png": "[encoded data removed]",
      "text/plain": [
       "<Figure size 720x432 with 1 Axes>"
      ]
     },
     "metadata": {
      "needs_background": "light"
     },
     "output_type": "display_data"
    }
   ],
   "source": [
    "plt.figure(figsize=(10,6))\n",
    "plt.plot(np.arange(0,1,0.2), F1_list, color=\"blue\", linestyle=\"dashed\", marker=\"o\", markersize=10)\n",
    "plt.title(\"F1 vs. Threshold\")\n",
    "plt.xlabel(\"SVC Overall Threshold\")\n",
    "plt.ylabel(\"F1\")"
   ]
  },
  {
   "cell_type": "code",
   "execution_count": 33,
   "metadata": {},
   "outputs": [
    {
     "name": "stdout",
     "output_type": "stream",
     "text": [
      "              precision    recall  f1-score   support\n",
      "\n",
      "           0       0.85      0.73      0.79      3818\n",
      "           1       0.33      0.51      0.40      1016\n",
      "\n",
      "    accuracy                           0.68      4834\n",
      "   macro avg       0.59      0.62      0.59      4834\n",
      "weighted avg       0.74      0.68      0.70      4834\n",
      "\n"
     ]
    }
   ],
   "source": [
    "print(classification_report(y_validate_01,svc.predict_proba(X_validate_cv1)[:,1] > thresholds[np.argmax(tpr - fpr)]))"
   ]
  },
  {
   "cell_type": "code",
   "execution_count": 34,
   "metadata": {},
   "outputs": [
    {
     "data": {
      "text/plain": [
       "SVC(C=0.1, class_weight='balanced', probability=True)"
      ]
     },
     "execution_count": 34,
     "metadata": {},
     "output_type": "execute_result"
    }
   ],
   "source": [
    "svc = SVC(class_weight='balanced', probability=True, C=0.1, \\\n",
    "          kernel = 'rbf' )\n",
    "\n",
    "svc.fit(X_train_scaled, y_train)"
   ]
  },
  {
   "cell_type": "code",
   "execution_count": 35,
   "metadata": {},
   "outputs": [],
   "source": [
    "with open('svc.pickle', 'wb') as write_file:\n",
    "    pickle.dump(svc, write_file)"
   ]
  },
  {
   "cell_type": "markdown",
   "metadata": {},
   "source": [
    "# Naive Bayes Optimization"
   ]
  },
  {
   "cell_type": "markdown",
   "metadata": {},
   "source": [
    "MultinomialNB is going to work best with my dataset because I have a mix of 0/1 (Bernoulli) data, count (Multinomial) data and continous (Gaussian) data. Bernoulli would count all non-zero values as 1, and Gaussian wouldn't appropriately model my binary or count data.\n",
    "\n",
    "Some values are less than 0 because of rounding errors with standard scaler retransofrming my scaled imputed data back to normal. I want to use non-scaled data here so the Multinomial data assumption is valid"
   ]
  },
  {
   "cell_type": "code",
   "execution_count": 38,
   "metadata": {},
   "outputs": [
    {
     "name": "stdout",
     "output_type": "stream",
     "text": [
      "19\n",
      "21\n",
      "51\n",
      "52\n",
      "53\n",
      "114\n",
      "123\n",
      "147\n",
      "186\n",
      "206\n",
      "244\n",
      "277\n",
      "289\n"
     ]
    }
   ],
   "source": [
    "for i in range(1,397):\n",
    "    if X_train[:,i].min() < 0:\n",
    "        print(i)\n",
    "        #print(column_names[i])"
   ]
  },
  {
   "cell_type": "code",
   "execution_count": 39,
   "metadata": {},
   "outputs": [
    {
     "data": {
      "text/plain": [
       "-1.3877787807814457e-17"
      ]
     },
     "execution_count": 39,
     "metadata": {},
     "output_type": "execute_result"
    }
   ],
   "source": [
    "X_train[:,19].min()"
   ]
  },
  {
   "cell_type": "code",
   "execution_count": 40,
   "metadata": {},
   "outputs": [],
   "source": [
    "X_train_df = pd.DataFrame(X_train)\n",
    "X_train_df[(X_train_df < 0)] = 0\n",
    "X_train_2 = np.array(X_train_df)\n",
    "del X_train_df"
   ]
  },
  {
   "cell_type": "code",
   "execution_count": 41,
   "metadata": {},
   "outputs": [],
   "source": [
    "y_train_01 = []\n",
    "for i in y_train:\n",
    "    if i=='Completed':\n",
    "        y_train_01.append(0)\n",
    "    if i==\"Terminated\":\n",
    "        y_train_01.append(1)"
   ]
  },
  {
   "cell_type": "code",
   "execution_count": 42,
   "metadata": {},
   "outputs": [
    {
     "data": {
      "text/plain": [
       "GridSearchCV(cv=3, estimator=MultinomialNB(), n_jobs=-1,\n",
       "             param_grid=[{'alpha': [1e-10, 1e-06, 0.0001, 0.001, 0.005, 0.01,\n",
       "                                    0.05, 0.1, 0.25, 0.5, 0.75, 1]}],\n",
       "             scoring='f1')"
      ]
     },
     "execution_count": 42,
     "metadata": {},
     "output_type": "execute_result"
    }
   ],
   "source": [
    "#alpha is part of the equation for the psuedocount\n",
    "param_grid = [{'alpha': [0.0000000001, 0.000001, 0.0001, 0.001, 0.005, 0.01, 0.05, 0.1, 0.25, 0.5, 0.75, 1]}]\n",
    "\n",
    "search = GridSearchCV(MultinomialNB(), param_grid, cv=3, n_jobs=-1, \\\n",
    "                      scoring='f1')\n",
    "                      \n",
    "search.fit(X_train_2, y_train_01)"
   ]
  },
  {
   "cell_type": "code",
   "execution_count": 43,
   "metadata": {},
   "outputs": [
    {
     "data": {
      "text/plain": [
       "{'alpha': 1e-10}"
      ]
     },
     "execution_count": 43,
     "metadata": {},
     "output_type": "execute_result"
    }
   ],
   "source": [
    "search.best_params_"
   ]
  },
  {
   "cell_type": "code",
   "execution_count": 44,
   "metadata": {},
   "outputs": [],
   "source": [
    "train_index, test_index = next(iter(skf.split(X_train_2, y_train)))"
   ]
  },
  {
   "cell_type": "code",
   "execution_count": 45,
   "metadata": {},
   "outputs": [],
   "source": [
    "X_train_cv1 = X_train_2[train_index]\n",
    "X_validate_cv1 = X_train_2[test_index]"
   ]
  },
  {
   "cell_type": "code",
   "execution_count": 46,
   "metadata": {},
   "outputs": [],
   "source": [
    "y_validate_cv1 = y_train.iloc[test_index]\n",
    "y_train_cv1 = y_train.iloc[train_index]"
   ]
  },
  {
   "cell_type": "code",
   "execution_count": 47,
   "metadata": {},
   "outputs": [
    {
     "data": {
      "text/plain": [
       "MultinomialNB(alpha=1e-10)"
      ]
     },
     "execution_count": 47,
     "metadata": {},
     "output_type": "execute_result"
    }
   ],
   "source": [
    "nb = MultinomialNB(alpha=0.0000000001)\n",
    "nb.fit(X_train_cv1, y_train_cv1)"
   ]
  },
  {
   "cell_type": "code",
   "execution_count": 48,
   "metadata": {},
   "outputs": [],
   "source": [
    "preds=nb.predict(X_validate_cv1)"
   ]
  },
  {
   "cell_type": "code",
   "execution_count": 49,
   "metadata": {},
   "outputs": [
    {
     "data": {
      "image/png": "[encoded data removed]",
      "text/plain": [
       "<Figure size 432x288 with 2 Axes>"
      ]
     },
     "metadata": {
      "needs_background": "light"
     },
     "output_type": "display_data"
    }
   ],
   "source": [
    "confusion = confusion_matrix(y_validate_cv1, preds)\n",
    "sns.heatmap(confusion, annot=True,\n",
    "           xticklabels=['Completed','Terminated'],\n",
    "           yticklabels=['Completed','Terminated'],fmt='.0f')\n",
    "\n",
    "plt.xlabel('Predicted')\n",
    "plt.ylabel('Actual')\n",
    "plt.title('Multinomial NB confusion matrix');"
   ]
  },
  {
   "cell_type": "code",
   "execution_count": 50,
   "metadata": {},
   "outputs": [
    {
     "name": "stdout",
     "output_type": "stream",
     "text": [
      "              precision    recall  f1-score   support\n",
      "\n",
      "   Completed       0.83      0.34      0.48      3818\n",
      "  Terminated       0.23      0.74      0.35      1016\n",
      "\n",
      "    accuracy                           0.42      4834\n",
      "   macro avg       0.53      0.54      0.41      4834\n",
      "weighted avg       0.70      0.42      0.45      4834\n",
      "\n"
     ]
    }
   ],
   "source": [
    "print(classification_report(y_validate_cv1, preds))"
   ]
  },
  {
   "cell_type": "code",
   "execution_count": 51,
   "metadata": {},
   "outputs": [],
   "source": [
    "fpr, tpr, thresholds = roc_curve(y_validate_cv1, nb.predict_proba(X_validate_cv1)[:,1], pos_label=\"Terminated\")"
   ]
  },
  {
   "cell_type": "code",
   "execution_count": 52,
   "metadata": {},
   "outputs": [
    {
     "data": {
      "image/png": "[encoded data removed]",
      "text/plain": [
       "<Figure size 432x288 with 1 Axes>"
      ]
     },
     "metadata": {
      "needs_background": "light"
     },
     "output_type": "display_data"
    }
   ],
   "source": [
    "plt.plot(fpr, tpr,lw=2)\n",
    "plt.plot([0,1],[0,1],c='violet',ls='--')\n",
    "plt.xlim([-0.05,1.05])\n",
    "plt.ylim([-0.05,1.05])\n",
    "\n",
    "\n",
    "plt.xlabel('False positive rate')\n",
    "plt.ylabel('True positive rate')\n",
    "plt.title('ROC curve for Terminated Class');"
   ]
  },
  {
   "cell_type": "code",
   "execution_count": 53,
   "metadata": {},
   "outputs": [
    {
     "data": {
      "text/plain": [
       "0.0036412744802954743"
      ]
     },
     "execution_count": 53,
     "metadata": {},
     "output_type": "execute_result"
    }
   ],
   "source": [
    "#The best threshold according to the ROC curve\n",
    "thresholds[np.argmax(tpr - fpr)]"
   ]
  },
  {
   "cell_type": "markdown",
   "metadata": {},
   "source": [
    "ComplementNB doc sheet says it is better suited to imbalanced classes than MultinomialNB, so I try this out as well"
   ]
  },
  {
   "cell_type": "code",
   "execution_count": 55,
   "metadata": {},
   "outputs": [
    {
     "data": {
      "text/plain": [
       "GridSearchCV(cv=3, estimator=ComplementNB(), n_jobs=-1,\n",
       "             param_grid=[{'alpha': [1e-10, 1e-06, 0.0001, 0.001, 0.005, 0.01,\n",
       "                                    0.05, 0.1, 0.25, 0.5, 0.75, 1]}],\n",
       "             scoring='f1')"
      ]
     },
     "execution_count": 55,
     "metadata": {},
     "output_type": "execute_result"
    }
   ],
   "source": [
    "#alpha is part of the equation for the psuedocount\n",
    "param_grid = [{'alpha': [0.0000000001, 0.000001, 0.0001, 0.001, 0.005, 0.01, 0.05, 0.1, 0.25, 0.5, 0.75, 1]}]\n",
    "\n",
    "search = GridSearchCV(ComplementNB(), param_grid, cv=3, n_jobs=-1, \\\n",
    "                      scoring='f1')\n",
    "                      \n",
    "search.fit(X_train_2, y_train_01)"
   ]
  },
  {
   "cell_type": "code",
   "execution_count": 56,
   "metadata": {},
   "outputs": [
    {
     "data": {
      "text/plain": [
       "{'alpha': 1e-10}"
      ]
     },
     "execution_count": 56,
     "metadata": {},
     "output_type": "execute_result"
    }
   ],
   "source": [
    "search.best_params_"
   ]
  },
  {
   "cell_type": "code",
   "execution_count": 57,
   "metadata": {},
   "outputs": [
    {
     "data": {
      "text/plain": [
       "ComplementNB(alpha=1e-10)"
      ]
     },
     "execution_count": 57,
     "metadata": {},
     "output_type": "execute_result"
    }
   ],
   "source": [
    "nb = ComplementNB(alpha=0.0000000001)\n",
    "nb.fit(X_train_cv1, y_train_cv1)"
   ]
  },
  {
   "cell_type": "code",
   "execution_count": 58,
   "metadata": {},
   "outputs": [],
   "source": [
    "preds=nb.predict(X_validate_cv1)"
   ]
  },
  {
   "cell_type": "code",
   "execution_count": 59,
   "metadata": {},
   "outputs": [
    {
     "data": {
      "image/png": "[encoded data removed]",
      "text/plain": [
       "<Figure size 432x288 with 2 Axes>"
      ]
     },
     "metadata": {
      "needs_background": "light"
     },
     "output_type": "display_data"
    }
   ],
   "source": [
    "confusion = confusion_matrix(y_validate_cv1, preds)\n",
    "sns.heatmap(confusion, annot=True,\n",
    "           xticklabels=['Completed','Terminated'],\n",
    "           yticklabels=['Completed','Terminated'],fmt='.0f')\n",
    "\n",
    "plt.xlabel('Predicted')\n",
    "plt.ylabel('Actual')\n",
    "plt.title('Multinomial NB confusion matrix');"
   ]
  },
  {
   "cell_type": "code",
   "execution_count": 60,
   "metadata": {},
   "outputs": [
    {
     "name": "stdout",
     "output_type": "stream",
     "text": [
      "              precision    recall  f1-score   support\n",
      "\n",
      "   Completed       0.83      0.33      0.48      3818\n",
      "  Terminated       0.23      0.74      0.35      1016\n",
      "\n",
      "    accuracy                           0.42      4834\n",
      "   macro avg       0.53      0.54      0.41      4834\n",
      "weighted avg       0.70      0.42      0.45      4834\n",
      "\n"
     ]
    }
   ],
   "source": [
    "print(classification_report(y_validate_cv1, preds))"
   ]
  },
  {
   "cell_type": "code",
   "execution_count": 69,
   "metadata": {},
   "outputs": [],
   "source": [
    "F1_list = []\n",
    "for i in np.arange(0,1,0.1):\n",
    "    preds = nb.predict_proba(X_validate_cv1)[:,1] > i\n",
    "    F1 = f1_score(y_validate_01,preds)\n",
    "    F1_list.append(F1)"
   ]
  },
  {
   "cell_type": "code",
   "execution_count": 70,
   "metadata": {},
   "outputs": [
    {
     "data": {
      "text/plain": [
       "Text(0, 0.5, 'F1')"
      ]
     },
     "execution_count": 70,
     "metadata": {},
     "output_type": "execute_result"
    },
    {
     "data": {
      "image/png": "[encoded data removed]",
      "text/plain": [
       "<Figure size 720x432 with 1 Axes>"
      ]
     },
     "metadata": {
      "needs_background": "light"
     },
     "output_type": "display_data"
    }
   ],
   "source": [
    "plt.figure(figsize=(10,6))\n",
    "plt.plot(np.arange(0,1,0.1), F1_list, color=\"blue\", linestyle=\"dashed\", marker=\"o\", markersize=10)\n",
    "plt.title(\"F1 vs. Threshold\")\n",
    "plt.xlabel(\"NB Overall Threshold\")\n",
    "plt.ylabel(\"F1\")"
   ]
  },
  {
   "cell_type": "code",
   "execution_count": 72,
   "metadata": {},
   "outputs": [
    {
     "name": "stdout",
     "output_type": "stream",
     "text": [
      "              precision    recall  f1-score   support\n",
      "\n",
      "           0       0.83      0.33      0.48      3818\n",
      "           1       0.23      0.75      0.35      1016\n",
      "\n",
      "    accuracy                           0.42      4834\n",
      "   macro avg       0.53      0.54      0.41      4834\n",
      "weighted avg       0.71      0.42      0.45      4834\n",
      "\n"
     ]
    }
   ],
   "source": [
    "print(classification_report(y_validate_01, nb.predict_proba(X_validate_cv1)[:,1] > 0.3))"
   ]
  },
  {
   "cell_type": "markdown",
   "metadata": {},
   "source": [
    "I ultimately decide on Multinomial NB"
   ]
  },
  {
   "cell_type": "code",
   "execution_count": 73,
   "metadata": {},
   "outputs": [
    {
     "data": {
      "text/plain": [
       "MultinomialNB(alpha=1e-10)"
      ]
     },
     "execution_count": 73,
     "metadata": {},
     "output_type": "execute_result"
    }
   ],
   "source": [
    "nb = MultinomialNB(alpha=0.0000000001)\n",
    "nb.fit(X_train, y_train)"
   ]
  },
  {
   "cell_type": "code",
   "execution_count": 74,
   "metadata": {},
   "outputs": [],
   "source": [
    "with open('multinomial_nb.pickle', 'wb') as write_file:\n",
    "    pickle.dump(nb, write_file)"
   ]
  },
  {
   "cell_type": "code",
   "execution_count": 263,
   "metadata": {},
   "outputs": [],
   "source": [
    "del knn, lr, svc, nb"
   ]
  },
  {
   "cell_type": "markdown",
   "metadata": {},
   "source": [
    "# Random Forest Optimization"
   ]
  },
  {
   "cell_type": "code",
   "execution_count": 8,
   "metadata": {},
   "outputs": [],
   "source": [
    "skf = StratifiedKFold(n_splits=3)"
   ]
  },
  {
   "cell_type": "code",
   "execution_count": 9,
   "metadata": {},
   "outputs": [],
   "source": [
    "train_index, test_index = next(iter(skf.split(X_train, y_train)))\n",
    "X_train_cv1 = X_train[train_index]\n",
    "X_validate_cv1 = X_train[test_index]\n",
    "y_validate_cv1 = y_train.iloc[test_index]\n",
    "y_train_cv1 = y_train.iloc[train_index]\n"
   ]
  },
  {
   "cell_type": "code",
   "execution_count": 10,
   "metadata": {},
   "outputs": [],
   "source": [
    "train_index, test_index = next(iter(skf.split(X_train_scaled, y_train)))\n",
    "X_train_cv2 = X_train_scaled[train_index]\n",
    "X_validate_cv2 = X_train_scaled[test_index]\n",
    "y_validate_cv2 = y_train.iloc[test_index]\n",
    "y_train_cv2 = y_train.iloc[train_index]\n"
   ]
  },
  {
   "cell_type": "code",
   "execution_count": 11,
   "metadata": {},
   "outputs": [],
   "source": [
    "train_index, test_index = next(iter(skf.split(X_train_scaled, y_train)))\n",
    "X_train_cv3 = X_train_scaled[train_index]\n",
    "X_validate_cv3 = X_train_scaled[test_index]\n",
    "y_validate_cv3 = y_train.iloc[test_index]\n",
    "y_train_cv3 = y_train.iloc[train_index]\n"
   ]
  },
  {
   "cell_type": "code",
   "execution_count": 22,
   "metadata": {},
   "outputs": [],
   "source": [
    "def graph_param(param,range_of_interest):\n",
    "    final_scores = []\n",
    "\n",
    "    for i in range_of_interest:\n",
    "        scores = []\n",
    "        for cv in [(X_train_cv1, y_train_cv1,X_validate_cv1,y_validate_cv1), \\\n",
    "                 (X_train_cv2, y_train_cv2,X_validate_cv2,y_validate_cv2), \\\n",
    "                 (X_train_cv3, y_train_cv3,X_validate_cv3,y_validate_cv3)]:\n",
    "            d={'max_features':i,'class_weight':'balanced'}\n",
    "            rf = RandomForestClassifier(**d)\n",
    "            rf.fit(cv[0], cv[1])\n",
    "            score = f1_score(rf.predict(cv[2]), cv[3], pos_label=\"Terminated\")\n",
    "            scores.append(score)\n",
    "        score=sum(scores)/len(scores)\n",
    "        final_scores.append(score)\n",
    "    \n",
    "    x_vals=range_of_interest\n",
    "    plt.plot(x_vals,final_scores)\n",
    "    plt.xlabel(param, fontsize=12)\n",
    "    plt.ylabel('f1', fontsize=12)"
   ]
  },
  {
   "cell_type": "code",
   "execution_count": 23,
   "metadata": {},
   "outputs": [
    {
     "data": {
      "image/png": "[encoded data removed]",
      "text/plain": [
       "<Figure size 432x288 with 1 Axes>"
      ]
     },
     "metadata": {
      "needs_background": "light"
     },
     "output_type": "display_data"
    }
   ],
   "source": [
    "graph_param('max_depth',range(50,100,10)) #default=None is oK"
   ]
  },
  {
   "cell_type": "code",
   "execution_count": 24,
   "metadata": {},
   "outputs": [
    {
     "data": {
      "image/png": "[encoded data removed]",
      "text/plain": [
       "<Figure size 432x288 with 1 Axes>"
      ]
     },
     "metadata": {
      "needs_background": "light"
     },
     "output_type": "display_data"
    }
   ],
   "source": [
    "graph_param('min_samples_split',range(2,10)) # default=2 is not best"
   ]
  },
  {
   "cell_type": "code",
   "execution_count": 25,
   "metadata": {},
   "outputs": [
    {
     "data": {
      "image/png": "[encoded data removed]",
      "text/plain": [
       "<Figure size 432x288 with 1 Axes>"
      ]
     },
     "metadata": {
      "needs_background": "light"
     },
     "output_type": "display_data"
    }
   ],
   "source": [
    "graph_param('max_leaf_nodes',range(10,70,5)) #default=None is OK"
   ]
  },
  {
   "cell_type": "code",
   "execution_count": 26,
   "metadata": {},
   "outputs": [
    {
     "data": {
      "image/png": "[encoded data removed]",
      "text/plain": [
       "<Figure size 432x288 with 1 Axes>"
      ]
     },
     "metadata": {
      "needs_background": "light"
     },
     "output_type": "display_data"
    }
   ],
   "source": [
    "graph_param('min_samples_leaf',range(2,30,2)) #default=1 is NOT best"
   ]
  },
  {
   "cell_type": "code",
   "execution_count": 27,
   "metadata": {},
   "outputs": [
    {
     "data": {
      "image/png": "[encoded data removed]",
      "text/plain": [
       "<Figure size 432x288 with 1 Axes>"
      ]
     },
     "metadata": {
      "needs_background": "light"
     },
     "output_type": "display_data"
    }
   ],
   "source": [
    "graph_param('n_estimators',range(5,205,20)) #default=100 is ok"
   ]
  },
  {
   "cell_type": "code",
   "execution_count": 28,
   "metadata": {},
   "outputs": [
    {
     "data": {
      "text/plain": [
       "20.0"
      ]
     },
     "execution_count": 28,
     "metadata": {},
     "output_type": "execute_result"
    }
   ],
   "source": [
    "np.sqrt(400) #default max_features"
   ]
  },
  {
   "cell_type": "code",
   "execution_count": 29,
   "metadata": {},
   "outputs": [
    {
     "data": {
      "image/png": "[encoded data removed]",
      "text/plain": [
       "<Figure size 432x288 with 1 Axes>"
      ]
     },
     "metadata": {
      "needs_background": "light"
     },
     "output_type": "display_data"
    }
   ],
   "source": [
    "graph_param('max_features',range(10,200,30)) #default value 20 is not best"
   ]
  },
  {
   "cell_type": "markdown",
   "metadata": {},
   "source": [
    "All the F1 scores are VERY low in the graphs"
   ]
  },
  {
   "cell_type": "markdown",
   "metadata": {},
   "source": [
    "Random Forests are probably not going to work well for this dataset"
   ]
  },
  {
   "cell_type": "markdown",
   "metadata": {},
   "source": [
    "# XGBoost"
   ]
  },
  {
   "cell_type": "markdown",
   "metadata": {},
   "source": [
    "Originally I wasn't able to get this module to download, due to incompatibillities with my version of sklearn, so I was using the GradientBoostedClassifier from sklearn instead and it was performing as badly as the random forest - it is much more prone to overfitting than XGBoost, but I am not sure if my model ws underfit or overfit - will need to check on training set"
   ]
  },
  {
   "cell_type": "code",
   "execution_count": 1,
   "metadata": {},
   "outputs": [],
   "source": [
    "import xgboost as xgb"
   ]
  },
  {
   "cell_type": "code",
   "execution_count": 9,
   "metadata": {},
   "outputs": [],
   "source": [
    "y_train_01 = []\n",
    "for i in y_train_cv1:\n",
    "    if i=='Completed':\n",
    "        y_train_01.append(0)\n",
    "    if i==\"Terminated\":\n",
    "        y_train_01.append(1)"
   ]
  },
  {
   "cell_type": "code",
   "execution_count": 10,
   "metadata": {},
   "outputs": [],
   "source": [
    "y_validate_01 = []\n",
    "for i in y_validate_cv1:\n",
    "    if i=='Completed':\n",
    "        y_validate_01.append(0)\n",
    "    if i==\"Terminated\":\n",
    "        y_validate_01.append(1)"
   ]
  },
  {
   "cell_type": "code",
   "execution_count": 29,
   "metadata": {},
   "outputs": [
    {
     "name": "stdout",
     "output_type": "stream",
     "text": [
      "[0]\tvalidation_0-auc:0.63714\tvalidation_1-auc:0.625065\n",
      "Multiple eval metrics have been passed: 'validation_1-auc' will be used for early stopping.\n",
      "\n",
      "Will train until validation_1-auc hasn't improved in 20 rounds.\n",
      "[1]\tvalidation_0-auc:0.665734\tvalidation_1-auc:0.631794\n",
      "[2]\tvalidation_0-auc:0.67275\tvalidation_1-auc:0.643186\n",
      "[3]\tvalidation_0-auc:0.680773\tvalidation_1-auc:0.645079\n",
      "[4]\tvalidation_0-auc:0.68586\tvalidation_1-auc:0.645356\n",
      "[5]\tvalidation_0-auc:0.692825\tvalidation_1-auc:0.651944\n",
      "[6]\tvalidation_0-auc:0.695836\tvalidation_1-auc:0.657113\n",
      "[7]\tvalidation_0-auc:0.70379\tvalidation_1-auc:0.658682\n",
      "[8]\tvalidation_0-auc:0.709693\tvalidation_1-auc:0.663184\n",
      "[9]\tvalidation_0-auc:0.715336\tvalidation_1-auc:0.665576\n",
      "[10]\tvalidation_0-auc:0.719208\tvalidation_1-auc:0.665644\n",
      "[11]\tvalidation_0-auc:0.722001\tvalidation_1-auc:0.666068\n",
      "[12]\tvalidation_0-auc:0.725996\tvalidation_1-auc:0.66739\n",
      "[13]\tvalidation_0-auc:0.730109\tvalidation_1-auc:0.670188\n",
      "[14]\tvalidation_0-auc:0.733494\tvalidation_1-auc:0.671526\n",
      "[15]\tvalidation_0-auc:0.737101\tvalidation_1-auc:0.668497\n",
      "[16]\tvalidation_0-auc:0.739847\tvalidation_1-auc:0.66917\n",
      "[17]\tvalidation_0-auc:0.741284\tvalidation_1-auc:0.668983\n",
      "[18]\tvalidation_0-auc:0.743024\tvalidation_1-auc:0.670825\n",
      "[19]\tvalidation_0-auc:0.74624\tvalidation_1-auc:0.671447\n",
      "[20]\tvalidation_0-auc:0.749127\tvalidation_1-auc:0.670934\n",
      "[21]\tvalidation_0-auc:0.750978\tvalidation_1-auc:0.670657\n",
      "[22]\tvalidation_0-auc:0.755612\tvalidation_1-auc:0.670043\n",
      "[23]\tvalidation_0-auc:0.756589\tvalidation_1-auc:0.670919\n",
      "[24]\tvalidation_0-auc:0.759157\tvalidation_1-auc:0.670453\n",
      "[25]\tvalidation_0-auc:0.760383\tvalidation_1-auc:0.670399\n",
      "[26]\tvalidation_0-auc:0.762474\tvalidation_1-auc:0.670005\n",
      "[27]\tvalidation_0-auc:0.76462\tvalidation_1-auc:0.669451\n",
      "[28]\tvalidation_0-auc:0.765677\tvalidation_1-auc:0.670103\n",
      "[29]\tvalidation_0-auc:0.767383\tvalidation_1-auc:0.671639\n",
      "[30]\tvalidation_0-auc:0.770898\tvalidation_1-auc:0.675208\n",
      "[31]\tvalidation_0-auc:0.772312\tvalidation_1-auc:0.675665\n",
      "[32]\tvalidation_0-auc:0.773561\tvalidation_1-auc:0.67657\n",
      "[33]\tvalidation_0-auc:0.776186\tvalidation_1-auc:0.676117\n",
      "[34]\tvalidation_0-auc:0.778738\tvalidation_1-auc:0.676732\n",
      "[35]\tvalidation_0-auc:0.78078\tvalidation_1-auc:0.678189\n",
      "[36]\tvalidation_0-auc:0.782905\tvalidation_1-auc:0.678497\n",
      "[37]\tvalidation_0-auc:0.783846\tvalidation_1-auc:0.680206\n",
      "[38]\tvalidation_0-auc:0.78549\tvalidation_1-auc:0.681301\n",
      "[39]\tvalidation_0-auc:0.787127\tvalidation_1-auc:0.680807\n",
      "[40]\tvalidation_0-auc:0.789339\tvalidation_1-auc:0.681137\n",
      "[41]\tvalidation_0-auc:0.789852\tvalidation_1-auc:0.681312\n",
      "[42]\tvalidation_0-auc:0.791545\tvalidation_1-auc:0.682099\n",
      "[43]\tvalidation_0-auc:0.79449\tvalidation_1-auc:0.683581\n",
      "[44]\tvalidation_0-auc:0.795759\tvalidation_1-auc:0.683522\n",
      "[45]\tvalidation_0-auc:0.798834\tvalidation_1-auc:0.682569\n",
      "[46]\tvalidation_0-auc:0.801405\tvalidation_1-auc:0.682573\n",
      "[47]\tvalidation_0-auc:0.803198\tvalidation_1-auc:0.681962\n",
      "[48]\tvalidation_0-auc:0.804023\tvalidation_1-auc:0.681011\n",
      "[49]\tvalidation_0-auc:0.805296\tvalidation_1-auc:0.681363\n",
      "[50]\tvalidation_0-auc:0.806372\tvalidation_1-auc:0.681174\n",
      "[51]\tvalidation_0-auc:0.807068\tvalidation_1-auc:0.681796\n",
      "[52]\tvalidation_0-auc:0.808635\tvalidation_1-auc:0.681607\n",
      "[53]\tvalidation_0-auc:0.810108\tvalidation_1-auc:0.681375\n",
      "[54]\tvalidation_0-auc:0.811861\tvalidation_1-auc:0.680886\n",
      "[55]\tvalidation_0-auc:0.813103\tvalidation_1-auc:0.6804\n",
      "[56]\tvalidation_0-auc:0.81511\tvalidation_1-auc:0.680638\n",
      "[57]\tvalidation_0-auc:0.816989\tvalidation_1-auc:0.679563\n",
      "[58]\tvalidation_0-auc:0.818812\tvalidation_1-auc:0.679768\n",
      "[59]\tvalidation_0-auc:0.820161\tvalidation_1-auc:0.680855\n",
      "[60]\tvalidation_0-auc:0.820622\tvalidation_1-auc:0.681002\n",
      "[61]\tvalidation_0-auc:0.821444\tvalidation_1-auc:0.681272\n",
      "[62]\tvalidation_0-auc:0.822647\tvalidation_1-auc:0.681891\n",
      "[63]\tvalidation_0-auc:0.82372\tvalidation_1-auc:0.681929\n",
      "Stopping. Best iteration:\n",
      "[43]\tvalidation_0-auc:0.79449\tvalidation_1-auc:0.683581\n",
      "\n"
     ]
    }
   ],
   "source": [
    "#0.68 max validation for LR=0.5, min child weights =3\n",
    "\n",
    "\n",
    "gbm = xgb.XGBRegressor(n_estimaters=3000, objective='binary:logistic', \\\n",
    "                      learning_rate=0.5, min_child_weight=3)\n",
    "\n",
    "eval_set=[(X_train_cv1, y_train_01),(X_validate_cv1,y_validate_01)] #tracking train/validation error as we go\n",
    "fit_model = gbm.fit(X_train_cv1, y_train_01, eval_set=eval_set, \\\n",
    "                    eval_metric='auc',early_stopping_rounds=20)"
   ]
  },
  {
   "cell_type": "code",
   "execution_count": 30,
   "metadata": {},
   "outputs": [
    {
     "data": {
      "text/plain": [
       "44"
      ]
     },
     "execution_count": 30,
     "metadata": {},
     "output_type": "execute_result"
    }
   ],
   "source": [
    "gbm.best_ntree_limit"
   ]
  },
  {
   "cell_type": "code",
   "execution_count": 50,
   "metadata": {},
   "outputs": [],
   "source": [
    "preds=gbm.predict(X_validate_cv1)"
   ]
  },
  {
   "cell_type": "code",
   "execution_count": 55,
   "metadata": {},
   "outputs": [
    {
     "data": {
      "text/plain": [
       "array([0.06207483, 0.3444015 , 0.10024903, ..., 0.1129244 , 0.44800702,\n",
       "       0.03788467], dtype=float32)"
      ]
     },
     "execution_count": 55,
     "metadata": {},
     "output_type": "execute_result"
    }
   ],
   "source": [
    "preds"
   ]
  },
  {
   "cell_type": "code",
   "execution_count": 57,
   "metadata": {},
   "outputs": [],
   "source": [
    "preds_bool = preds > 0.2"
   ]
  },
  {
   "cell_type": "code",
   "execution_count": 58,
   "metadata": {},
   "outputs": [
    {
     "data": {
      "text/plain": [
       "array([False,  True, False, ..., False,  True, False])"
      ]
     },
     "execution_count": 58,
     "metadata": {},
     "output_type": "execute_result"
    }
   ],
   "source": [
    "preds_bool"
   ]
  },
  {
   "cell_type": "code",
   "execution_count": 41,
   "metadata": {},
   "outputs": [],
   "source": [
    "F1_list = []\n",
    "for i in np.arange(0,1,0.1):\n",
    "    preds = gbm.predict(X_validate_cv1) > i\n",
    "    F1 = f1_score(y_validate_01,preds)\n",
    "    F1_list.append(F1)"
   ]
  },
  {
   "cell_type": "code",
   "execution_count": 42,
   "metadata": {},
   "outputs": [
    {
     "data": {
      "text/plain": [
       "Text(0, 0.5, 'F1')"
      ]
     },
     "execution_count": 42,
     "metadata": {},
     "output_type": "execute_result"
    },
    {
     "data": {
      "image/png": "[encoded data removed]",
      "text/plain": [
       "<Figure size 720x432 with 1 Axes>"
      ]
     },
     "metadata": {
      "needs_background": "light"
     },
     "output_type": "display_data"
    }
   ],
   "source": [
    "plt.figure(figsize=(10,6))\n",
    "plt.plot(np.arange(0,1,0.1), F1_list, color=\"blue\", linestyle=\"dashed\", marker=\"o\", markersize=10)\n",
    "plt.title(\"F1 vs. Threshold\")\n",
    "plt.xlabel(\"NB Overall Threshold\")\n",
    "plt.ylabel(\"F1\")"
   ]
  },
  {
   "cell_type": "code",
   "execution_count": 59,
   "metadata": {},
   "outputs": [
    {
     "data": {
      "image/png": "[encoded data removed]",
      "text/plain": [
       "<Figure size 432x288 with 2 Axes>"
      ]
     },
     "metadata": {
      "needs_background": "light"
     },
     "output_type": "display_data"
    }
   ],
   "source": [
    "confusion = confusion_matrix(y_validate_01, preds_bool)\n",
    "sns.heatmap(confusion, annot=True,\n",
    "           xticklabels=['Completed','Terminated'],\n",
    "           yticklabels=['Completed','Terminated'],fmt='.0f')\n",
    "\n",
    "plt.xlabel('Predicted')\n",
    "plt.ylabel('Actual')\n",
    "plt.title('GB confusion matrix');"
   ]
  },
  {
   "cell_type": "code",
   "execution_count": 61,
   "metadata": {},
   "outputs": [
    {
     "name": "stdout",
     "output_type": "stream",
     "text": [
      "              precision    recall  f1-score   support\n",
      "\n",
      "           0       0.87      0.62      0.72      3818\n",
      "           1       0.31      0.65      0.42      1016\n",
      "\n",
      "    accuracy                           0.62      4834\n",
      "   macro avg       0.59      0.63      0.57      4834\n",
      "weighted avg       0.75      0.62      0.66      4834\n",
      "\n"
     ]
    }
   ],
   "source": [
    "print(classification_report(y_validate_01, preds_bool))"
   ]
  },
  {
   "cell_type": "code",
   "execution_count": 62,
   "metadata": {},
   "outputs": [],
   "source": [
    "with open('gbm.pickle', 'wb') as write_file:\n",
    "    pickle.dump(gbm, write_file)"
   ]
  }
 ],
 "metadata": {
  "kernelspec": {
   "display_name": "Python 3",
   "language": "python",
   "name": "python3"
  },
  "language_info": {
   "codemirror_mode": {
    "name": "ipython",
    "version": 3
   },
   "file_extension": ".py",
   "mimetype": "text/x-python",
   "name": "python",
   "nbconvert_exporter": "python",
   "pygments_lexer": "ipython3",
   "version": "3.7.6"
  }
 },
 "nbformat": 4,
 "nbformat_minor": 4
}
