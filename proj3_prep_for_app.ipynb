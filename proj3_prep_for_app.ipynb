{
 "cells": [
  {
   "cell_type": "code",
   "execution_count": 1,
   "metadata": {},
   "outputs": [],
   "source": [
    "import pickle\n",
    "import pandas as pd"
   ]
  },
  {
   "cell_type": "code",
   "execution_count": 14,
   "metadata": {},
   "outputs": [],
   "source": [
    "import os\n",
    "os.chdir('/Users/beth/Documents/Metis/metis_project_3_files/clinical_trials')"
   ]
  },
  {
   "cell_type": "code",
   "execution_count": 15,
   "metadata": {},
   "outputs": [],
   "source": [
    "with open('coef_names.pickle', 'rb') as read_file:\n",
    "    columns = pickle.load(read_file)"
   ]
  },
  {
   "cell_type": "code",
   "execution_count": 124,
   "metadata": {},
   "outputs": [],
   "source": [
    "pd.set_option('display.max_rows', 500)\n",
    "df = pd.DataFrame(columns)"
   ]
  },
  {
   "cell_type": "code",
   "execution_count": 67,
   "metadata": {},
   "outputs": [],
   "source": [
    "df['index']=df.index"
   ]
  },
  {
   "cell_type": "code",
   "execution_count": 107,
   "metadata": {},
   "outputs": [],
   "source": [
    "column_dict = {'Treatment':89,'Prevention':90,'Supportive Care':91,'Diagnostic':92,'Phase 2':94,'Phase 3':96, \\\n",
    "'Phase 1/Phase 2':93,'Phase 2/Phase 3':95,'Single Group':101,'Parallel':99,'Crossover':97,'Sequential':100,\\\n",
    "'Factorial':98,'Participant|Care Provider|Investigator|Outcomes Assessor ':104, \\\n",
    "'Participant|Investigator':105,'Participant|Care Provider|Investigator':106,\\\n",
    " 'Participant':107,'Participant|Investigator|Outcomes Assessor':108, 'stage ii':0, 'stage iii':1, 'iv':2,\\\n",
    "  'breast':3, 'lymphoma':4, 'non-hodgkin':5, 'noncontiguous':6, 'prostate':7, \\\n",
    "        'lung':8, 'myeloma':9, 'leukemia':10, 'stomach':11, 'liver':12, 'colorectal':13, 'cervical':14, \\\n",
    "        'pancreatic':15, 'renal':16, 'melanoma':17, 'non small/large cell':18, 'small cell':19, 'squamous':20, \\\n",
    "        'diffuse':21, 'childhood':22, 'recurrent':23, 'metastatic':24, 'acute':25, 'triple negative':26, \\\n",
    "        'Experimental|Active Comparator':70, 'Experimental':71,'Experimental|Placebo Comparator':72, \\\n",
    "        'Experimental|Experimental':73,'Active Comparator|Active Comparator':74,'Experimental|Experimental|Experimental':75, \\\n",
    "        'Experimental|No Intervention':76, 'Active Comparator|Placebo Comparator':77,\\\n",
    "        'biomarker':50, 'stem cell':51, 'cell transplantation':52, 'chemotherapy':53, \\\n",
    "        'radiation':54, 'placebo':55, 'surgery':56, 'docetaxel':57, 'bevacizumab':58, 'doxorubicin':59, \\\n",
    "        'paclitaxel':60, 'rituximab':61, 'cetuximab':62, 'daily':63, 'weekly':64, 'monthly':65, 'iv/intravenous':66,\\\n",
    "        'oral':67, 'injection':68, 'correlative studies':69, 'biologic':83,\\\n",
    "        'progression free':37, 'event free':38,'disease free':39, 'relapse':39, 'failure free':39,'toxcitiy and tolerability':40,\\\n",
    "        'overall survival':41,'percent change':42,'overall response rate':42,'RECIST':43,'complete response':44, 'remission':44,'quality of life':45,\\\n",
    "        'Female':110,'Male':111,'All':109,'biopsy confirmed':116, 'ECOG':117, 'who performance scale':117, 'resectable':118, 'vitamin levels':119, \\\n",
    " 'blood pressure':120, 'life expectancy':121, 'MRI':122, 'CAT':122, 'PET':122, 'imaging':122, \\\n",
    " 'hemoglobin':123,'glucose':124, 'diabetes':124, 'liver function':125, 'renal function':126,\\\n",
    " 'medication':127, 'conditions':128, 'allergy/sensitivity':129, 'metastasis':130, 'lymph nodes':131, 'heart health':132, \\\n",
    " 'previously untreated':133, 'prior radiation':134, 'prior chemotherapy':135, 'infection':136, 'contraception':137, \\\n",
    " 'prior surgery':138,'Sponsor':143,'Principal Investigator':142,'Sponsor-Investigator':144, \\\n",
    " 'National Cancer Institute (NCI)':145,'M.D. Anderson Cancer Center':146,'Memorial Sloan Kettering Cancer Center':147, \\\n",
    " 'Novartis Pharmaceuticals':148,'Eli Lilly and Company':149, 'Hoffmann-La Roche':150,'Alliance for Clinical Trials in Oncology':151, \\\n",
    " 'Pfizer':152,'Amgen':153,'European Organisation for Research and Treatment of Cancer - EORTC':154,\\\n",
    " 'M.D. Anderson Cancer Center ':156,'Memorial Sloan Kettering Cancer Center ':157,'Mayo Clinic ':158, 'Hoffmann-La Roche ':159,\\\n",
    " 'Novartis Pharmaceuticals ':160, 'Eli Lilly and Company ':161,'Dana-Farber Cancer Institute ':162,'National Cancer Institute (NCI) ':163, 'Amgen ':164,\\\n",
    " 'Pfizer ':165,'United States':168, 'China':169, 'France':170, 'Germany':171, 'Canada':172, \\\n",
    "          'Japan':173, 'Italy':174, 'Korea':175, 'Spain':176, 'Netherlands':177, 'Russia':178 \\\n",
    "          ,'India':179, 'Switzerland':180, 'Belgium':181, 'Brazil':182, 'Egypt':183, 'Greece':184, 'Australia':185, \\\n",
    "          'Denmark':186, 'Sweden':187, 'Taiwan':188, 'Singapore':189, 'Austria':190, 'Israel':191, 'Norway':192, 'Poland':193, \\\n",
    "          'Finland':194, 'Hong Kong':195, 'Turkey':196, 'Mexico':197, 'Argentina':198, 'Ireland':199, 'Thailand':200}"
   ]
  },
  {
   "cell_type": "code",
   "execution_count": 110,
   "metadata": {},
   "outputs": [],
   "source": [
    "locations_dict = pd.Series(df.iloc[168:,0].index,index=df.iloc[168:,0].values).to_dict()"
   ]
  },
  {
   "cell_type": "code",
   "execution_count": 111,
   "metadata": {},
   "outputs": [],
   "source": [
    "column_dict.update(locations_dict)"
   ]
  },
  {
   "cell_type": "code",
   "execution_count": 113,
   "metadata": {},
   "outputs": [],
   "source": [
    "with open('column_dict.pickle', 'wb') as write_file:\n",
    "    pickle.dump(column_dict, write_file)\n",
    "    \n",
    "with open('logistic_regression.pickle', 'rb') as read_file:\n",
    "    lr = pickle.load(read_file)\n",
    "\n",
    "with open('scaling.pickle', 'rb') as read_file:\n",
    "    scaler = pickle.load(read_file)\n",
    "\n",
    "with open('average.pickle', 'rb') as read_file:\n",
    "    df = pickle.load(read_file)"
   ]
  },
  {
   "cell_type": "code",
   "execution_count": 119,
   "metadata": {},
   "outputs": [],
   "source": [
    "df_for_lr = scaler.transform(df.reshape(1, -1))\n",
    "\n",
    "pred = lr.predict_proba(df_for_lr)[:,1]"
   ]
  },
  {
   "cell_type": "code",
   "execution_count": 120,
   "metadata": {},
   "outputs": [
    {
     "data": {
      "text/plain": [
       "array([0.45165111])"
      ]
     },
     "execution_count": 120,
     "metadata": {},
     "output_type": "execute_result"
    }
   ],
   "source": [
    "pred"
   ]
  },
  {
   "cell_type": "code",
   "execution_count": null,
   "metadata": {},
   "outputs": [],
   "source": []
  }
 ],
 "metadata": {
  "kernelspec": {
   "display_name": "Python 3",
   "language": "python",
   "name": "python3"
  },
  "language_info": {
   "codemirror_mode": {
    "name": "ipython",
    "version": 3
   },
   "file_extension": ".py",
   "mimetype": "text/x-python",
   "name": "python",
   "nbconvert_exporter": "python",
   "pygments_lexer": "ipython3",
   "version": "3.7.6"
  }
 },
 "nbformat": 4,
 "nbformat_minor": 4
}
